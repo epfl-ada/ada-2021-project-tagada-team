{
 "cells": [
  {
   "cell_type": "markdown",
   "metadata": {},
   "source": [
    "# ADA Project : Milestone 3 "
   ]
  },
  {
   "cell_type": "markdown",
   "metadata": {},
   "source": [
    "## Let's make it Pope-litical!"
   ]
  },
  {
   "cell_type": "markdown",
   "metadata": {},
   "source": [
    "At first glance, one might think that the Pope does not have much impact on our everyday life and on our country’s politics, yet he influences over 1.3 billion Catholics worldwide and regularly meets with the most powerful political figures of the planet. In the present work, we want to investigate how one of the mightiest apolitical figures on Earth influences one sixth of the world population by using a novel quotations corpus : Quotebank. The main idea is therefore to try to situate the Pope on a political spectrum, here the American political system, using characteristics extracted from the corpus of his quotes. This will help us determine whether such an influential and, suposedly, non-political figure can be aligned with a certain political party or not."
   ]
  },
  {
   "cell_type": "markdown",
   "metadata": {},
   "source": [
    "#### Useful libraries"
   ]
  },
  {
   "cell_type": "code",
   "execution_count": 1,
   "metadata": {},
   "outputs": [],
   "source": [
    "# Utilitaries\n",
    "import pandas as pd\n",
    "import bz2\n",
    "import json\n",
    "import re\n",
    "import pickle\n",
    "import string\n",
    "\n",
    "# Math\n",
    "import math\n",
    "import statistics as stat\n",
    "import numpy as np\n",
    "import scipy\n",
    "\n",
    "#Data visualization\n",
    "import matplotlib.pyplot as plt\n",
    "import seaborn as sns\n",
    "from matplotlib_venn import venn3\n",
    "\n",
    "# External libraries needed for the project:\n",
    "\n",
    "#!pip install langdetect\n",
    "#pip install -U spacy\n",
    "#pip install empath\n",
    "#python -m spacy download en_core_web_sm\n",
    "#pip install matplotlib-venn\n",
    "\n",
    "# Natural language processing libraries\n",
    "import fasttext # for quotes language filtering #pip install fasttext\n",
    "import nltk, spacy, sklearn\n",
    "from spacy.lang.en import English\n",
    "from nltk.corpus import stopwords\n",
    "from nltk.tokenize import TweetTokenizer\n",
    "nltk.download('punkt', quiet=True)\n",
    "nltk.download('stopwords', quiet=True)\n",
    "nltk.download('wordnet', quiet=True)\n",
    "\n",
    "# Analysis of the lexical fields\n",
    "from empath import Empath \n",
    "\n",
    "# PCA \n",
    "from sklearn.preprocessing import StandardScaler\n",
    "from sklearn.decomposition import PCA\n",
    "from sklearn.feature_selection import VarianceThreshold\n"
   ]
  },
  {
   "cell_type": "code",
   "execution_count": 2,
   "metadata": {},
   "outputs": [],
   "source": [
    "lemmatizer = nltk.stem.WordNetLemmatizer()\n",
    "tokenizer = TweetTokenizer()\n",
    "lexicon = Empath()"
   ]
  },
  {
   "cell_type": "markdown",
   "metadata": {},
   "source": [
    "## Data importation"
   ]
  },
  {
   "cell_type": "markdown",
   "metadata": {},
   "source": [
    "We started by extracting the quotation corpus of the Pope and of a few politicians from the Quotebank dataset using our Google Collab file \"Import_Quotebank_Colab.ipynb\". We end up with much smaller datasets containing between 10'000 and 100'000 quotes which are much easier to manipulate. From those smaller JSON files, we then decided to build individual pandas dataframes  using the function `build_dataframe`, and saved them in the pickle format for an optimized utilization. The advantage of keeping one file per speaker is the small size of the files (between 10 and 20 Mo) that allows us to import them on our git repository. Our function `import_dataframe` simply allows to open one of those pickles files."
   ]
  },
  {
   "cell_type": "code",
   "execution_count": 3,
   "metadata": {},
   "outputs": [],
   "source": [
    "def build_dataframe(name_speaker):\n",
    "    file = '../data/'+ name_speaker +'-quotes.json.bz2'\n",
    "    output = '../data/'+ name_speaker + '-quotes.pkl'\n",
    "    data = []\n",
    "    with bz2.open(file, 'rb') as s_file:\n",
    "        for instance in s_file:\n",
    "            \n",
    "            instance = json.loads(instance)\n",
    "\n",
    "            row = []\n",
    "            row.extend([instance['quotation'],instance['speaker'], instance['probas'][0][1]])\n",
    "\n",
    "            if len(instance['probas']) > 1:       #There are at least 2 speakers\n",
    "                row.extend([instance['probas'][1][0], instance['probas'][1][1]])\n",
    "            else:\n",
    "                row.extend([math.nan, math.nan])\n",
    "\n",
    "            if len(instance['probas']) > 2:       #There are at least 3 speakers\n",
    "                row.extend([instance['probas'][2][0], instance['probas'][2][1]])\n",
    "            else:\n",
    "                row.extend([math.nan, math.nan])\n",
    "\n",
    "            row.extend([instance['date'], instance['numOccurrences'], instance['phase'], instance['nbr_words'], len(instance['quotation']), len(instance['probas'])])\n",
    "\n",
    "            data.append(row)\n",
    "\n",
    "    df = pd.DataFrame(data, columns =['quote', 'speaker', 'probability', 'second_speaker', 'second_probability', 'third_speaker', 'third_probability', 'date', 'nbr_occurences', 'phase', 'nbr_words', 'nbr_characters', 'nbr_speakers'])\n",
    "    df.to_pickle(output)\n",
    "    \n",
    "def import_dataframe(name_speaker):\n",
    "    \n",
    "    file = '../data/'+ name_speaker +'-quotes.pkl'\n",
    "    return pd.read_pickle(file)"
   ]
  },
  {
   "cell_type": "markdown",
   "metadata": {},
   "source": [
    "For the rest of our analysis, we work with a unique dataframe containing the data of the 7 speakers of interest. We will perform the same pre-processing steps on all of the quotes."
   ]
  },
  {
   "cell_type": "code",
   "execution_count": 4,
   "metadata": {
    "scrolled": false
   },
   "outputs": [],
   "source": [
    "names = ['Pope','Mike_Pence','Mitt_Romney','Hillary_Clinton','Bernie_Sanders','Elizabeth_Warren','Ted_Cruz',\n",
    "         'Pete_Buttigieg', 'Kamala_Harris', 'Nikki_Haley', 'Marco_Rubio', 'Ben_Carson', 'Alexandria_Ocasio_Cortez']\n",
    "df = pd.DataFrame()\n",
    "\n",
    "for s in names:\n",
    "    # uncomment next line if you need to generate the pickle files\n",
    "    build_dataframe(s) \n",
    "    \n",
    "    temp = import_dataframe(s)\n",
    "    df = df.append(temp, ignore_index=True)"
   ]
  },
  {
   "cell_type": "code",
   "execution_count": 5,
   "metadata": {},
   "outputs": [
    {
     "data": {
      "text/html": [
       "<div>\n",
       "<style scoped>\n",
       "    .dataframe tbody tr th:only-of-type {\n",
       "        vertical-align: middle;\n",
       "    }\n",
       "\n",
       "    .dataframe tbody tr th {\n",
       "        vertical-align: top;\n",
       "    }\n",
       "\n",
       "    .dataframe thead th {\n",
       "        text-align: right;\n",
       "    }\n",
       "</style>\n",
       "<table border=\"1\" class=\"dataframe\">\n",
       "  <thead>\n",
       "    <tr style=\"text-align: right;\">\n",
       "      <th></th>\n",
       "      <th>quote</th>\n",
       "      <th>speaker</th>\n",
       "      <th>probability</th>\n",
       "      <th>second_speaker</th>\n",
       "      <th>second_probability</th>\n",
       "      <th>third_speaker</th>\n",
       "      <th>third_probability</th>\n",
       "      <th>date</th>\n",
       "      <th>nbr_occurences</th>\n",
       "      <th>phase</th>\n",
       "      <th>nbr_words</th>\n",
       "      <th>nbr_characters</th>\n",
       "      <th>nbr_speakers</th>\n",
       "    </tr>\n",
       "  </thead>\n",
       "  <tbody>\n",
       "    <tr>\n",
       "      <th>0</th>\n",
       "      <td>a good father knows how to wait, and knows how...</td>\n",
       "      <td>Pope Francis</td>\n",
       "      <td>0.7727</td>\n",
       "      <td>None</td>\n",
       "      <td>0.2215</td>\n",
       "      <td>Thomas Rosica</td>\n",
       "      <td>0.0058</td>\n",
       "      <td>2015-02-06 15:31:07</td>\n",
       "      <td>2</td>\n",
       "      <td>E</td>\n",
       "      <td>18</td>\n",
       "      <td>87</td>\n",
       "      <td>3</td>\n",
       "    </tr>\n",
       "    <tr>\n",
       "      <th>1</th>\n",
       "      <td>I don't have an ear for it,</td>\n",
       "      <td>Pope Francis</td>\n",
       "      <td>0.7834</td>\n",
       "      <td>None</td>\n",
       "      <td>0.1408</td>\n",
       "      <td>Mark Miles</td>\n",
       "      <td>0.0758</td>\n",
       "      <td>2015-09-25 01:44:00</td>\n",
       "      <td>1</td>\n",
       "      <td>E</td>\n",
       "      <td>8</td>\n",
       "      <td>27</td>\n",
       "      <td>3</td>\n",
       "    </tr>\n",
       "    <tr>\n",
       "      <th>2</th>\n",
       "      <td>Ask `What does this say to my heart? What is G...</td>\n",
       "      <td>Pope Francis</td>\n",
       "      <td>0.9272</td>\n",
       "      <td>None</td>\n",
       "      <td>0.0728</td>\n",
       "      <td>NaN</td>\n",
       "      <td>NaN</td>\n",
       "      <td>2015-12-03 21:20:49</td>\n",
       "      <td>1</td>\n",
       "      <td>E</td>\n",
       "      <td>17</td>\n",
       "      <td>82</td>\n",
       "      <td>2</td>\n",
       "    </tr>\n",
       "    <tr>\n",
       "      <th>3</th>\n",
       "      <td>Be praised, my Lord, through our sister Mother...</td>\n",
       "      <td>Pope Francis</td>\n",
       "      <td>0.7581</td>\n",
       "      <td>None</td>\n",
       "      <td>0.2419</td>\n",
       "      <td>NaN</td>\n",
       "      <td>NaN</td>\n",
       "      <td>2015-06-19 00:49:49</td>\n",
       "      <td>1</td>\n",
       "      <td>E</td>\n",
       "      <td>24</td>\n",
       "      <td>137</td>\n",
       "      <td>2</td>\n",
       "    </tr>\n",
       "    <tr>\n",
       "      <th>4</th>\n",
       "      <td>But he's already taken a number of important s...</td>\n",
       "      <td>Pope Francis</td>\n",
       "      <td>0.5039</td>\n",
       "      <td>None</td>\n",
       "      <td>0.4961</td>\n",
       "      <td>NaN</td>\n",
       "      <td>NaN</td>\n",
       "      <td>2015-07-28 19:34:53</td>\n",
       "      <td>2</td>\n",
       "      <td>E</td>\n",
       "      <td>20</td>\n",
       "      <td>103</td>\n",
       "      <td>2</td>\n",
       "    </tr>\n",
       "  </tbody>\n",
       "</table>\n",
       "</div>"
      ],
      "text/plain": [
       "                                               quote       speaker  \\\n",
       "0  a good father knows how to wait, and knows how...  Pope Francis   \n",
       "1                        I don't have an ear for it,  Pope Francis   \n",
       "2  Ask `What does this say to my heart? What is G...  Pope Francis   \n",
       "3  Be praised, my Lord, through our sister Mother...  Pope Francis   \n",
       "4  But he's already taken a number of important s...  Pope Francis   \n",
       "\n",
       "  probability second_speaker second_probability  third_speaker  \\\n",
       "0      0.7727           None             0.2215  Thomas Rosica   \n",
       "1      0.7834           None             0.1408     Mark Miles   \n",
       "2      0.9272           None             0.0728            NaN   \n",
       "3      0.7581           None             0.2419            NaN   \n",
       "4      0.5039           None             0.4961            NaN   \n",
       "\n",
       "  third_probability                 date  nbr_occurences phase  nbr_words  \\\n",
       "0            0.0058  2015-02-06 15:31:07               2     E         18   \n",
       "1            0.0758  2015-09-25 01:44:00               1     E          8   \n",
       "2               NaN  2015-12-03 21:20:49               1     E         17   \n",
       "3               NaN  2015-06-19 00:49:49               1     E         24   \n",
       "4               NaN  2015-07-28 19:34:53               2     E         20   \n",
       "\n",
       "   nbr_characters  nbr_speakers  \n",
       "0              87             3  \n",
       "1              27             3  \n",
       "2              82             2  \n",
       "3             137             2  \n",
       "4             103             2  "
      ]
     },
     "execution_count": 5,
     "metadata": {},
     "output_type": "execute_result"
    }
   ],
   "source": [
    "df.head(5)"
   ]
  },
  {
   "cell_type": "markdown",
   "metadata": {},
   "source": [
    "Dataframe variables before pre_processing\n",
    "\n",
    "`quote`: whole quote as it was extracted online\n",
    "\n",
    "`speaker`: person most likely to have said `quote`, attributed by QuoBERT\n",
    "\n",
    "`probability`: probability that the speaker said `quote`, attributed by QuoBERT\n",
    " \n",
    "`second_speaker`: Second most probable person to say `quote` (can be None)\n",
    "\n",
    "`second_probability`: probability that the second speaker said `quote`, attributed by QuoBERT\n",
    "\n",
    "`third_speaker`: Third most probable person to say `quote` (can be None)\n",
    "\n",
    "`third_probability`: probability that the third speaker said `quote`, attributed by QuoBERT\n",
    "\n",
    "`date`: Exact date and time the article containing  `quote` was published\n",
    "\n",
    "`nbr_occurences`: Number of different sources that published the `quote`\n",
    "\n",
    "`phase`: phase of the `quote`\n",
    "\n",
    "`nbr_words`: number of words in `quote`\n",
    "\n",
    "`nbr_characters`: number of characters in `quote`\n",
    "\n",
    "`nbr_speakers`: Number of possible speakers for `quote` (max 3)"
   ]
  },
  {
   "cell_type": "markdown",
   "metadata": {},
   "source": [
    "#### Change the type of probability variable:\n",
    "The probabilities are initially of type string. Thus, to facilitate our future analysis, we change them to float numbers:"
   ]
  },
  {
   "cell_type": "code",
   "execution_count": 6,
   "metadata": {},
   "outputs": [],
   "source": [
    "new_df = df.copy()\n",
    "new_df = new_df.astype({'probability': 'float64', 'second_probability': 'float64', 'third_probability': 'float64'})"
   ]
  },
  {
   "cell_type": "markdown",
   "metadata": {},
   "source": [
    "## First glance at the data"
   ]
  },
  {
   "cell_type": "markdown",
   "metadata": {},
   "source": [
    "#### Number of words per quote:"
   ]
  },
  {
   "cell_type": "markdown",
   "metadata": {},
   "source": [
    "First, we plot the distribution of the number of words per quote for each speaker."
   ]
  },
  {
   "cell_type": "code",
   "execution_count": 7,
   "metadata": {},
   "outputs": [],
   "source": [
    "speakers = ['Pope Francis','Mike Pence','Mitt Romney','Hillary Clinton','Bernie Sanders','Elizabeth Warren',\n",
    "            'Ted Cruz', 'Pete Buttigieg', 'Kamala Harris', 'Nikki Haley', 'Marco Rubio', 'Ben Carson', 'Alexandria Ocasio Cortez']"
   ]
  },
  {
   "cell_type": "code",
   "execution_count": 9,
   "metadata": {},
   "outputs": [
    {
     "name": "stderr",
     "output_type": "stream",
     "text": [
      "/Users/lucamusumeci/opt/anaconda3/lib/python3.8/site-packages/numpy/lib/histograms.py:908: RuntimeWarning: invalid value encountered in true_divide\n",
      "  return n/db/n.sum(), bin_edges\n"
     ]
    },
    {
     "data": {
      "image/png": "[encoded data removed]",
      "text/plain": [
       "<Figure size 2160x1080 with 15 Axes>"
      ]
     },
     "metadata": {
      "needs_background": "light"
     },
     "output_type": "display_data"
    }
   ],
   "source": [
    "fig, axs = plt.subplots(4,4, figsize=(30, 15), sharex=True, sharey=True)\n",
    "fig.suptitle('Normalized distributions of the number of words per quote for each speaker', size = 30)\n",
    "\n",
    "axs = axs.ravel()\n",
    "\n",
    "for i in range(len(speakers)):\n",
    "    data = new_df[new_df.speaker == speakers[i]].nbr_words\n",
    "    med = data.median()\n",
    "    axs[i].set_xlim((0,300))\n",
    "    axs[i].hist(data, density = True, bins = 50)\n",
    "    axs[i].axvline(x = med, color = 'r', linestyle = 'dashed', linewidth = 1, label='Median')\n",
    "    axs[i].legend(loc='upper right',prop={'size': 20})\n",
    "    axs[i].set_title(speakers[i], size = 25)\n",
    "    axs[i].yaxis.label.set_size(18)\n",
    "    axs[i].xaxis.label.set_size(18)\n",
    "    \n",
    "for ax in axs.flat:\n",
    "    ax.set(xlabel='Number of words', ylabel='Frequency density')\n",
    "    \n",
    "    \n",
    "fig.delaxes(axs[-1])"
   ]
  },
  {
   "cell_type": "markdown",
   "metadata": {},
   "source": [
    "The distributions of the number of words per quote are similar across speakers. As the distributions are power law-like, the median will be a much better descriptive statistic than the mean. "
   ]
  },
  {
   "cell_type": "code",
   "execution_count": null,
   "metadata": {},
   "outputs": [],
   "source": [
    "print(\"Median of the number of words per quote:\")\n",
    "for i in range(len(speakers)):\n",
    "    print(speakers[i],\":\", new_df[new_df.speaker == speakers[i]].nbr_words.median())\n"
   ]
  },
  {
   "cell_type": "markdown",
   "metadata": {},
   "source": [
    "#### Probability of the first speaker:"
   ]
  },
  {
   "cell_type": "markdown",
   "metadata": {},
   "source": [
    "Each quote has a probability assigned by the algorithm that indicates the certainity (or not) it was said by the given speaker. Let's investigate these probabilities."
   ]
  },
  {
   "cell_type": "code",
   "execution_count": null,
   "metadata": {},
   "outputs": [],
   "source": [
    "plt.figure(figsize = (8,8))\n",
    "ax = sns.boxplot(y = 'probability', x = 'speaker', palette = \"colorblind\", data = new_df)\n",
    "ax.set_xticklabels(ax.get_xticklabels(), rotation = 45, ha='right')\n",
    "_ = plt.title(\"Boxplot of probability for the first speaker\")"
   ]
  },
  {
   "cell_type": "code",
   "execution_count": null,
   "metadata": {},
   "outputs": [],
   "source": [
    "fig, axs = plt.subplots(2,4, figsize=(30, 15), sharey=True)\n",
    "fig.suptitle('Normalized distributions of probability for each speaker', size = 30)\n",
    "\n",
    "axs = axs.ravel()\n",
    "\n",
    "for i in range(len(speakers)):\n",
    "    data = new_df.loc[new_df.speaker == speakers[i]].probability\n",
    "    axs[i].hist(data, density = True, bins = 100)\n",
    "    axs[i].axvline(x = 0.5, color = 'r', linestyle = 'dashed', linewidth = 1,label='p=0.5')\n",
    "    axs[i].set_title(speakers[i], size = 25)\n",
    "    axs[i].legend(loc='upper left',prop={'size': 16})\n",
    "    axs[i].yaxis.label.set_size(18)\n",
    "    axs[i].xaxis.label.set_size(18)\n",
    "for ax in axs.flat:\n",
    "    ax.set(xlabel='Probability', ylabel='Frequency density')\n",
    "    \n",
    "fig.delaxes(axs[-1])"
   ]
  },
  {
   "cell_type": "markdown",
   "metadata": {},
   "source": [
    "Speakers share quite similar distributions in their quote attribution probabilities. Interestingly, for the Pope, the red line threshold at $p = 0.5$ coincides with an abrupt drop of quotes frequency. This drop is not as pronounced for other speakers."
   ]
  },
  {
   "cell_type": "markdown",
   "metadata": {},
   "source": [
    "#### Occurence of the quotes:"
   ]
  },
  {
   "cell_type": "code",
   "execution_count": null,
   "metadata": {},
   "outputs": [],
   "source": [
    "fig, axs = plt.subplots(2,4, figsize=(30, 15), sharex=True, sharey=True)\n",
    "fig.suptitle('Normalized distributions of the number of occurences per quote for each speaker', size = 30)\n",
    "\n",
    "axs = axs.ravel()\n",
    "\n",
    "for i in range(len(speakers)):\n",
    "    data = new_df[new_df.speaker == speakers[i]].nbr_occurences\n",
    "    med = data.median()\n",
    "    axs[i].set_xlim((0,150))\n",
    "    axs[i].hist(data, density = True, bins = 200)\n",
    "    axs[i].axvline(x = med, color = 'r', linestyle = 'dashed', linewidth = 1, label='Median')\n",
    "    axs[i].legend(loc='upper right',prop={'size': 20})\n",
    "    axs[i].set_title(speakers[i], size = 25)\n",
    "    axs[i].yaxis.label.set_size(18)\n",
    "    axs[i].xaxis.label.set_size(18)\n",
    "    \n",
    "for ax in axs.flat:\n",
    "    ax.set(xlabel='Number of occurences', ylabel='Frequency density')\n",
    "    \n",
    "    \n",
    "fig.delaxes(axs[-1])"
   ]
  },
  {
   "cell_type": "code",
   "execution_count": null,
   "metadata": {},
   "outputs": [],
   "source": [
    "print(\"Median of the number of occurences per quote:\")\n",
    "for i in range(len(speakers)):\n",
    "    print(speakers[i],\":\", new_df[new_df.speaker == speakers[i]].nbr_occurences.median())"
   ]
  },
  {
   "cell_type": "markdown",
   "metadata": {},
   "source": [
    "The median of the number of occurences of the quotes is 1 for each speaker. "
   ]
  },
  {
   "cell_type": "markdown",
   "metadata": {},
   "source": [
    "## Pre-processing"
   ]
  },
  {
   "cell_type": "markdown",
   "metadata": {},
   "source": [
    "### Removal of quotes with less than 50% of probability for the first speaker \n",
    "\n",
    "A first way to pre-process the quotes is to put a threshold of 50% below which a quote will be removed from the dataset. Indeed, if $p ≥ 0.5$, it means that we are more confident that the speaker of the quote actually said it rather than someone else. As seen previously, only the Pope has a clear drop in quotes frequency for probabilities below 0.5, so we might lose an important number of quotes from the American politicians. Thus, we might have to develop a more robust thresholding criteria in the future. For now, it seems to be the most logical method for a preliminary analysis."
   ]
  },
  {
   "cell_type": "code",
   "execution_count": 10,
   "metadata": {},
   "outputs": [
    {
     "name": "stdout",
     "output_type": "stream",
     "text": [
      "Before removing rows with probability <= 0.5: 585609 quotes\n",
      "After removing rows with probability <= 0.5 : 535633 quotes (8.534% loss)\n"
     ]
    }
   ],
   "source": [
    "l = len(new_df)\n",
    "print(\"Before removing rows with probability <= 0.5: \" + str(l) + \" quotes\")\n",
    "\n",
    "new_df.drop(new_df.query('probability <= 0.5').index, inplace=True)\n",
    "new_df = new_df.reset_index(drop=True)\n",
    "\n",
    "print(\"After removing rows with probability <= 0.5 : \" + str(len(new_df)) + \" quotes (\" + str(round((l-len(new_df))*100/l,4)) +\"% loss)\")"
   ]
  },
  {
   "cell_type": "markdown",
   "metadata": {},
   "source": [
    "### Natural Language pre-processing steps\n",
    "\n",
    "To handle text properly for natural language processing, a set of classical operations must be performed. We save a new version of the quotes without digits, punctuation, unnecessary spaces and capital letters. "
   ]
  },
  {
   "cell_type": "code",
   "execution_count": 11,
   "metadata": {},
   "outputs": [],
   "source": [
    "# remove digits\n",
    "new_df['pre_processed_quote'] = new_df['quote'].astype(str).str.replace('\\d+', '', regex=True)\n",
    "\n",
    "# remove punctuation\n",
    "new_df['pre_processed_quote'] = new_df['pre_processed_quote'].apply(lambda x: re.sub(r'[^\\w\\s]','', x))\n",
    "\n",
    "# remove spaces at the beginning and ending of quotes\n",
    "new_df['pre_processed_quote'] = new_df['pre_processed_quote'].str.strip()\n",
    "\n",
    "# remove capitalization from words\n",
    "new_df['pre_processed_quote'] = new_df['pre_processed_quote'].str.lower()"
   ]
  },
  {
   "cell_type": "markdown",
   "metadata": {},
   "source": [
    "Then we remove rows that contain an empty quote or a quote that only contains digits and/or punctuation. For example we found a quote that was written in binary. This step only removes three rows for all our speakers."
   ]
  },
  {
   "cell_type": "code",
   "execution_count": 12,
   "metadata": {},
   "outputs": [
    {
     "name": "stdout",
     "output_type": "stream",
     "text": [
      "Before removing aberrant rows : 535633 quotes\n",
      "After removing aberrant rows : 535630 quotes (0.0006% loss)\n"
     ]
    }
   ],
   "source": [
    "l = len(new_df)\n",
    "print(\"Before removing aberrant rows : \" + str(l) + \" quotes\")\n",
    "\n",
    "# remove rows with empty or NaN quotes (so also the ones which only had digits &/or punctuation)\n",
    "new_df['pre_processed_quote'].replace(\"\", np.nan, inplace=True)\n",
    "new_df.dropna(subset = [\"pre_processed_quote\"], inplace=True)\n",
    "\n",
    "print(\"After removing aberrant rows : \" + str(len(new_df)) + \" quotes (\" + str(round((l-len(new_df))*100/l,4)) +\"% loss)\")"
   ]
  },
  {
   "cell_type": "markdown",
   "metadata": {},
   "source": [
    "Then, we also tokenize each quote in order to remove stop words (a, and, but, how...). Then the lemmatization is useful for ignoring the variations of words (e.g. plurals and verbs) and concentrate on their meaning. The final preprocessed quotes will be used for lexical fields analysis. "
   ]
  },
  {
   "cell_type": "code",
   "execution_count": 13,
   "metadata": {},
   "outputs": [],
   "source": [
    "# Quotes tokenization \n",
    "new_df['tokenized_quote'] = new_df['pre_processed_quote'].apply(lambda x: tokenizer.tokenize(x)) \n"
   ]
  },
  {
   "cell_type": "code",
   "execution_count": 14,
   "metadata": {},
   "outputs": [],
   "source": [
    "# removal of stop words (from 2 different lists of stop words)\n",
    "stop_words = stopwords.words('english')\n",
    "stop_words.extend(spacy.lang.en.stop_words.STOP_WORDS)\n",
    "\n",
    "new_df['no_stop_words'] = new_df['tokenized_quote'].apply(lambda x: [word for word in x if not word in stop_words])\n"
   ]
  },
  {
   "cell_type": "markdown",
   "metadata": {},
   "source": [
    "Finally, we save a last version of the quotes which consists in the lemmatized version without the stop words."
   ]
  },
  {
   "cell_type": "code",
   "execution_count": 15,
   "metadata": {},
   "outputs": [],
   "source": [
    "# Quotes lemmatization on stop words \n",
    "new_df['pre_processed_quote'] = new_df['no_stop_words'].apply(lambda x: (\" \").join([lemmatizer.lemmatize(w) for w in x]))\n",
    "\n"
   ]
  },
  {
   "cell_type": "code",
   "execution_count": 16,
   "metadata": {},
   "outputs": [
    {
     "data": {
      "text/html": [
       "<div>\n",
       "<style scoped>\n",
       "    .dataframe tbody tr th:only-of-type {\n",
       "        vertical-align: middle;\n",
       "    }\n",
       "\n",
       "    .dataframe tbody tr th {\n",
       "        vertical-align: top;\n",
       "    }\n",
       "\n",
       "    .dataframe thead th {\n",
       "        text-align: right;\n",
       "    }\n",
       "</style>\n",
       "<table border=\"1\" class=\"dataframe\">\n",
       "  <thead>\n",
       "    <tr style=\"text-align: right;\">\n",
       "      <th></th>\n",
       "      <th>quote</th>\n",
       "      <th>speaker</th>\n",
       "      <th>probability</th>\n",
       "      <th>second_speaker</th>\n",
       "      <th>second_probability</th>\n",
       "      <th>third_speaker</th>\n",
       "      <th>third_probability</th>\n",
       "      <th>date</th>\n",
       "      <th>nbr_occurences</th>\n",
       "      <th>phase</th>\n",
       "      <th>nbr_words</th>\n",
       "      <th>nbr_characters</th>\n",
       "      <th>nbr_speakers</th>\n",
       "      <th>pre_processed_quote</th>\n",
       "      <th>tokenized_quote</th>\n",
       "      <th>no_stop_words</th>\n",
       "    </tr>\n",
       "  </thead>\n",
       "  <tbody>\n",
       "    <tr>\n",
       "      <th>0</th>\n",
       "      <td>a good father knows how to wait, and knows how...</td>\n",
       "      <td>Pope Francis</td>\n",
       "      <td>0.7727</td>\n",
       "      <td>None</td>\n",
       "      <td>0.2215</td>\n",
       "      <td>Thomas Rosica</td>\n",
       "      <td>0.0058</td>\n",
       "      <td>2015-02-06 15:31:07</td>\n",
       "      <td>2</td>\n",
       "      <td>E</td>\n",
       "      <td>18</td>\n",
       "      <td>87</td>\n",
       "      <td>3</td>\n",
       "      <td>good father know wait know forgive heart</td>\n",
       "      <td>[a, good, father, knows, how, to, wait, and, k...</td>\n",
       "      <td>[good, father, knows, wait, knows, forgive, he...</td>\n",
       "    </tr>\n",
       "    <tr>\n",
       "      <th>1</th>\n",
       "      <td>I don't have an ear for it,</td>\n",
       "      <td>Pope Francis</td>\n",
       "      <td>0.7834</td>\n",
       "      <td>None</td>\n",
       "      <td>0.1408</td>\n",
       "      <td>Mark Miles</td>\n",
       "      <td>0.0758</td>\n",
       "      <td>2015-09-25 01:44:00</td>\n",
       "      <td>1</td>\n",
       "      <td>E</td>\n",
       "      <td>8</td>\n",
       "      <td>27</td>\n",
       "      <td>3</td>\n",
       "      <td>dont ear</td>\n",
       "      <td>[i, dont, have, an, ear, for, it]</td>\n",
       "      <td>[dont, ear]</td>\n",
       "    </tr>\n",
       "    <tr>\n",
       "      <th>2</th>\n",
       "      <td>Ask `What does this say to my heart? What is G...</td>\n",
       "      <td>Pope Francis</td>\n",
       "      <td>0.9272</td>\n",
       "      <td>None</td>\n",
       "      <td>0.0728</td>\n",
       "      <td>NaN</td>\n",
       "      <td>NaN</td>\n",
       "      <td>2015-12-03 21:20:49</td>\n",
       "      <td>1</td>\n",
       "      <td>E</td>\n",
       "      <td>17</td>\n",
       "      <td>82</td>\n",
       "      <td>2</td>\n",
       "      <td>ask heart god saying word</td>\n",
       "      <td>[ask, what, does, this, say, to, my, heart, wh...</td>\n",
       "      <td>[ask, heart, god, saying, words]</td>\n",
       "    </tr>\n",
       "    <tr>\n",
       "      <th>3</th>\n",
       "      <td>Be praised, my Lord, through our sister Mother...</td>\n",
       "      <td>Pope Francis</td>\n",
       "      <td>0.7581</td>\n",
       "      <td>None</td>\n",
       "      <td>0.2419</td>\n",
       "      <td>NaN</td>\n",
       "      <td>NaN</td>\n",
       "      <td>2015-06-19 00:49:49</td>\n",
       "      <td>1</td>\n",
       "      <td>E</td>\n",
       "      <td>24</td>\n",
       "      <td>137</td>\n",
       "      <td>2</td>\n",
       "      <td>praised lord sister mother earth feed rule pra...</td>\n",
       "      <td>[be, praised, my, lord, through, our, sister, ...</td>\n",
       "      <td>[praised, lord, sister, mother, earth, feeds, ...</td>\n",
       "    </tr>\n",
       "    <tr>\n",
       "      <th>4</th>\n",
       "      <td>But he's already taken a number of important s...</td>\n",
       "      <td>Pope Francis</td>\n",
       "      <td>0.5039</td>\n",
       "      <td>None</td>\n",
       "      <td>0.4961</td>\n",
       "      <td>NaN</td>\n",
       "      <td>NaN</td>\n",
       "      <td>2015-07-28 19:34:53</td>\n",
       "      <td>2</td>\n",
       "      <td>E</td>\n",
       "      <td>20</td>\n",
       "      <td>103</td>\n",
       "      <td>2</td>\n",
       "      <td>he taken number important step think pave way ...</td>\n",
       "      <td>[but, hes, already, taken, a, number, of, impo...</td>\n",
       "      <td>[hes, taken, number, important, steps, think, ...</td>\n",
       "    </tr>\n",
       "    <tr>\n",
       "      <th>...</th>\n",
       "      <td>...</td>\n",
       "      <td>...</td>\n",
       "      <td>...</td>\n",
       "      <td>...</td>\n",
       "      <td>...</td>\n",
       "      <td>...</td>\n",
       "      <td>...</td>\n",
       "      <td>...</td>\n",
       "      <td>...</td>\n",
       "      <td>...</td>\n",
       "      <td>...</td>\n",
       "      <td>...</td>\n",
       "      <td>...</td>\n",
       "      <td>...</td>\n",
       "      <td>...</td>\n",
       "      <td>...</td>\n",
       "    </tr>\n",
       "    <tr>\n",
       "      <th>535628</th>\n",
       "      <td>our community's reality is our country's future,</td>\n",
       "      <td>Alexandria Ocasio-Cortez</td>\n",
       "      <td>0.8577</td>\n",
       "      <td>None</td>\n",
       "      <td>0.1145</td>\n",
       "      <td>Sylvia Garcia</td>\n",
       "      <td>0.0278</td>\n",
       "      <td>2020-03-27 15:43:00</td>\n",
       "      <td>1</td>\n",
       "      <td>E</td>\n",
       "      <td>9</td>\n",
       "      <td>48</td>\n",
       "      <td>3</td>\n",
       "      <td>community reality country future</td>\n",
       "      <td>[our, communitys, reality, is, our, countrys, ...</td>\n",
       "      <td>[communitys, reality, countrys, future]</td>\n",
       "    </tr>\n",
       "    <tr>\n",
       "      <th>535629</th>\n",
       "      <td>America is in a state of denial about the leve...</td>\n",
       "      <td>Alexandria Ocasio-Cortez</td>\n",
       "      <td>0.5596</td>\n",
       "      <td>None</td>\n",
       "      <td>0.4405</td>\n",
       "      <td>NaN</td>\n",
       "      <td>NaN</td>\n",
       "      <td>2020-02-05 05:00:00</td>\n",
       "      <td>2</td>\n",
       "      <td>E</td>\n",
       "      <td>15</td>\n",
       "      <td>75</td>\n",
       "      <td>2</td>\n",
       "      <td>america state denial level poverty country</td>\n",
       "      <td>[america, is, in, a, state, of, denial, about,...</td>\n",
       "      <td>[america, state, denial, level, poverty, country]</td>\n",
       "    </tr>\n",
       "    <tr>\n",
       "      <th>535630</th>\n",
       "      <td>Unity isn't a feeling. It's a process, and I t...</td>\n",
       "      <td>Alexandria Ocasio-Cortez</td>\n",
       "      <td>0.8583</td>\n",
       "      <td>None</td>\n",
       "      <td>0.1067</td>\n",
       "      <td>Elizabeth Warren</td>\n",
       "      <td>0.0179</td>\n",
       "      <td>2020-04-16 10:02:00</td>\n",
       "      <td>1</td>\n",
       "      <td>E</td>\n",
       "      <td>17</td>\n",
       "      <td>77</td>\n",
       "      <td>4</td>\n",
       "      <td>unity isnt feeling process think biden</td>\n",
       "      <td>[unity, isnt, a, feeling, its, a, process, and...</td>\n",
       "      <td>[unity, isnt, feeling, process, think, biden]</td>\n",
       "    </tr>\n",
       "    <tr>\n",
       "      <th>535631</th>\n",
       "      <td>We need to help vulnerable people &amp; small biz ...</td>\n",
       "      <td>Alexandria Ocasio-Cortez</td>\n",
       "      <td>0.8143</td>\n",
       "      <td>None</td>\n",
       "      <td>0.1590</td>\n",
       "      <td>President Donald Trump</td>\n",
       "      <td>0.0267</td>\n",
       "      <td>2020-03-17 20:27:19</td>\n",
       "      <td>1</td>\n",
       "      <td>E</td>\n",
       "      <td>19</td>\n",
       "      <td>137</td>\n",
       "      <td>3</td>\n",
       "      <td>need help vulnerable people small biz w paid l...</td>\n",
       "      <td>[we, need, to, help, vulnerable, people, small...</td>\n",
       "      <td>[need, help, vulnerable, people, small, biz, w...</td>\n",
       "    </tr>\n",
       "    <tr>\n",
       "      <th>535632</th>\n",
       "      <td>What Trump [ and ] Senate GOP have done is hol...</td>\n",
       "      <td>Alexandria Ocasio-Cortez</td>\n",
       "      <td>0.8750</td>\n",
       "      <td>None</td>\n",
       "      <td>0.1250</td>\n",
       "      <td>NaN</td>\n",
       "      <td>NaN</td>\n",
       "      <td>2020-03-27 14:08:49</td>\n",
       "      <td>1</td>\n",
       "      <td>E</td>\n",
       "      <td>32</td>\n",
       "      <td>191</td>\n",
       "      <td>2</td>\n",
       "      <td>trump senate gop hold hospital working people ...</td>\n",
       "      <td>[what, trump, and, senate, gop, have, done, is...</td>\n",
       "      <td>[trump, senate, gop, hold, hospitals, working,...</td>\n",
       "    </tr>\n",
       "  </tbody>\n",
       "</table>\n",
       "<p>535630 rows × 16 columns</p>\n",
       "</div>"
      ],
      "text/plain": [
       "                                                    quote  \\\n",
       "0       a good father knows how to wait, and knows how...   \n",
       "1                             I don't have an ear for it,   \n",
       "2       Ask `What does this say to my heart? What is G...   \n",
       "3       Be praised, my Lord, through our sister Mother...   \n",
       "4       But he's already taken a number of important s...   \n",
       "...                                                   ...   \n",
       "535628   our community's reality is our country's future,   \n",
       "535629  America is in a state of denial about the leve...   \n",
       "535630  Unity isn't a feeling. It's a process, and I t...   \n",
       "535631  We need to help vulnerable people & small biz ...   \n",
       "535632  What Trump [ and ] Senate GOP have done is hol...   \n",
       "\n",
       "                         speaker  probability second_speaker  \\\n",
       "0                   Pope Francis       0.7727           None   \n",
       "1                   Pope Francis       0.7834           None   \n",
       "2                   Pope Francis       0.9272           None   \n",
       "3                   Pope Francis       0.7581           None   \n",
       "4                   Pope Francis       0.5039           None   \n",
       "...                          ...          ...            ...   \n",
       "535628  Alexandria Ocasio-Cortez       0.8577           None   \n",
       "535629  Alexandria Ocasio-Cortez       0.5596           None   \n",
       "535630  Alexandria Ocasio-Cortez       0.8583           None   \n",
       "535631  Alexandria Ocasio-Cortez       0.8143           None   \n",
       "535632  Alexandria Ocasio-Cortez       0.8750           None   \n",
       "\n",
       "        second_probability           third_speaker  third_probability  \\\n",
       "0                   0.2215           Thomas Rosica             0.0058   \n",
       "1                   0.1408              Mark Miles             0.0758   \n",
       "2                   0.0728                     NaN                NaN   \n",
       "3                   0.2419                     NaN                NaN   \n",
       "4                   0.4961                     NaN                NaN   \n",
       "...                    ...                     ...                ...   \n",
       "535628              0.1145           Sylvia Garcia             0.0278   \n",
       "535629              0.4405                     NaN                NaN   \n",
       "535630              0.1067        Elizabeth Warren             0.0179   \n",
       "535631              0.1590  President Donald Trump             0.0267   \n",
       "535632              0.1250                     NaN                NaN   \n",
       "\n",
       "                       date  nbr_occurences phase  nbr_words  nbr_characters  \\\n",
       "0       2015-02-06 15:31:07               2     E         18              87   \n",
       "1       2015-09-25 01:44:00               1     E          8              27   \n",
       "2       2015-12-03 21:20:49               1     E         17              82   \n",
       "3       2015-06-19 00:49:49               1     E         24             137   \n",
       "4       2015-07-28 19:34:53               2     E         20             103   \n",
       "...                     ...             ...   ...        ...             ...   \n",
       "535628  2020-03-27 15:43:00               1     E          9              48   \n",
       "535629  2020-02-05 05:00:00               2     E         15              75   \n",
       "535630  2020-04-16 10:02:00               1     E         17              77   \n",
       "535631  2020-03-17 20:27:19               1     E         19             137   \n",
       "535632  2020-03-27 14:08:49               1     E         32             191   \n",
       "\n",
       "        nbr_speakers                                pre_processed_quote  \\\n",
       "0                  3           good father know wait know forgive heart   \n",
       "1                  3                                           dont ear   \n",
       "2                  2                          ask heart god saying word   \n",
       "3                  2  praised lord sister mother earth feed rule pra...   \n",
       "4                  2  he taken number important step think pave way ...   \n",
       "...              ...                                                ...   \n",
       "535628             3                   community reality country future   \n",
       "535629             2         america state denial level poverty country   \n",
       "535630             4             unity isnt feeling process think biden   \n",
       "535631             3  need help vulnerable people small biz w paid l...   \n",
       "535632             2  trump senate gop hold hospital working people ...   \n",
       "\n",
       "                                          tokenized_quote  \\\n",
       "0       [a, good, father, knows, how, to, wait, and, k...   \n",
       "1                       [i, dont, have, an, ear, for, it]   \n",
       "2       [ask, what, does, this, say, to, my, heart, wh...   \n",
       "3       [be, praised, my, lord, through, our, sister, ...   \n",
       "4       [but, hes, already, taken, a, number, of, impo...   \n",
       "...                                                   ...   \n",
       "535628  [our, communitys, reality, is, our, countrys, ...   \n",
       "535629  [america, is, in, a, state, of, denial, about,...   \n",
       "535630  [unity, isnt, a, feeling, its, a, process, and...   \n",
       "535631  [we, need, to, help, vulnerable, people, small...   \n",
       "535632  [what, trump, and, senate, gop, have, done, is...   \n",
       "\n",
       "                                            no_stop_words  \n",
       "0       [good, father, knows, wait, knows, forgive, he...  \n",
       "1                                             [dont, ear]  \n",
       "2                        [ask, heart, god, saying, words]  \n",
       "3       [praised, lord, sister, mother, earth, feeds, ...  \n",
       "4       [hes, taken, number, important, steps, think, ...  \n",
       "...                                                   ...  \n",
       "535628            [communitys, reality, countrys, future]  \n",
       "535629  [america, state, denial, level, poverty, country]  \n",
       "535630      [unity, isnt, feeling, process, think, biden]  \n",
       "535631  [need, help, vulnerable, people, small, biz, w...  \n",
       "535632  [trump, senate, gop, hold, hospitals, working,...  \n",
       "\n",
       "[535630 rows x 16 columns]"
      ]
     },
     "execution_count": 16,
     "metadata": {},
     "output_type": "execute_result"
    }
   ],
   "source": [
    "new_df"
   ]
  },
  {
   "cell_type": "markdown",
   "metadata": {},
   "source": [
    "### Non-english quotes removal\n",
    "\n",
    "The Quotebank corpus is mainly composed of quotes in the English language. However, we did notice that a few quotes in other languages managed to find their way in the dataset. To perform efficient natural language processing, we decided to remove every quote that isn't considered as english. This task will be done with the NLP language detection library `fasttext` than can recognize up to 176 languages. Il will permit us to download a pre-trained model from fastText to detect the non-english quotes. In case you need to run the code, you can download the compressed version of the pre-trained model here: https://fasttext.cc/docs/en/language-identification.html. This classifier was previously trained with datasets for Wikipedia, Tatoeba and SETimes.\n",
    "\n",
    "\n",
    "\n",
    "`model.predict('quote', k)` returns k tuples, one for each most probable languages:\n",
    "\n",
    "1) array with predicted languages of form `__label_xx` where `xx` is the language ISO 639 code.\n",
    "\n",
    "2) array of confidence for each sentence."
   ]
  },
  {
   "cell_type": "code",
   "execution_count": 17,
   "metadata": {},
   "outputs": [
    {
     "name": "stdout",
     "output_type": "stream",
     "text": [
      "Before removing non-english quotes : 535630 quotes\n"
     ]
    },
    {
     "name": "stderr",
     "output_type": "stream",
     "text": [
      "Warning : `load_model` does not return WordVectorModel or SupervisedModel any more, but a `FastText` object which is very similar.\n"
     ]
    },
    {
     "name": "stdout",
     "output_type": "stream",
     "text": [
      "After removing non-english quotes : 534431 quotes (0.2238% loss)\n"
     ]
    }
   ],
   "source": [
    "new_df = new_df.reset_index(drop=True)\n",
    "index = []\n",
    "\n",
    "l = len(new_df)\n",
    "print(\"Before removing non-english quotes : \" + str(l) + \" quotes\")\n",
    "\n",
    "# import pre-trained model\n",
    "model = fasttext.load_model('lid.176.ftz')\n",
    "\n",
    "for n, quote_ in enumerate(new_df['quote']) :\n",
    "    value, _ = model.predict(quote_, k=1)\n",
    "    if value[0] != \"__label__en\":\n",
    "        index.append(n)\n",
    "        \n",
    "new_df.drop(index, inplace=True)\n",
    "new_df = new_df.reset_index(drop=True)\n",
    "\n",
    "print(\"After removing non-english quotes : \" + str(len(new_df)) + \" quotes (\" + str(round((l-len(new_df))*100/l,4)) +\"% loss)\")"
   ]
  },
  {
   "cell_type": "markdown",
   "metadata": {},
   "source": [
    "In summary, our whole pre-processing procedure ended up removing only a small percentage of the quotations."
   ]
  },
  {
   "cell_type": "code",
   "execution_count": 18,
   "metadata": {},
   "outputs": [
    {
     "name": "stdout",
     "output_type": "stream",
     "text": [
      "Total percentage of quotes removed : 8.7393% (51178 quotes)\n"
     ]
    }
   ],
   "source": [
    "print(\"Total percentage of quotes removed : \" + str(round((len(df)-len(new_df))*100/len(df),4)) +\"% (\" + str(len(df)-len(new_df)) + \" quotes)\")"
   ]
  },
  {
   "cell_type": "markdown",
   "metadata": {},
   "source": [
    "We save the pre-processed version of our dataframe for further analysis"
   ]
  },
  {
   "cell_type": "code",
   "execution_count": 19,
   "metadata": {},
   "outputs": [],
   "source": [
    "new_df.to_pickle(\"../data/pre_processed_df.pkl\")"
   ]
  },
  {
   "cell_type": "markdown",
   "metadata": {},
   "source": [
    "## Lexical field analysis\n",
    "\n",
    "In this section, we perform multiple different analysis concerning the speakers usage of lexical fields. First we load the pre-processed data:"
   ]
  },
  {
   "cell_type": "code",
   "execution_count": null,
   "metadata": {},
   "outputs": [],
   "source": [
    "file = '../data/pre_processed_df.pkl'\n",
    "pre_processed_df = pd.read_pickle(file)"
   ]
  },
  {
   "cell_type": "code",
   "execution_count": null,
   "metadata": {},
   "outputs": [],
   "source": [
    "pre_processed_df"
   ]
  },
  {
   "cell_type": "markdown",
   "metadata": {},
   "source": [
    "### Most important lexical fields\n",
    "\n",
    "First, we are interested to know which lexical fields are dominant in the corpuses of the Pope, the Democrates and the Republicans. To determine this, we will use the Empath python library. First we separate the quotes in three categories: Republicans, Democrates and religious figures and then we analyze the average score of all lexical fields provided by Empath in those categories."
   ]
  },
  {
   "cell_type": "code",
   "execution_count": null,
   "metadata": {},
   "outputs": [],
   "source": [
    "def mean_lexical_fields(quotes_serie):\n",
    "    # returns a 1 x nbr_lexical_fields dataframe associating a mean lexical field score for the whole provided quote corpus\n",
    "    \n",
    "    lexical_fields_dict = lexicon.analyze(quotes_serie.str.cat(sep = ' '), normalize = True) #by default, analyze all lexical fields from Empath\n",
    "\n",
    "    return lexical_fields_dict\n",
    "\n",
    "\n",
    "def all_lexical_fields(quotes_serie):\n",
    "    # returns a nbr_quotes x nbr_lexical fields dataframe from the lexical fields scores of each independant quote of the provided corpus\n",
    "    scores = []\n",
    "    \n",
    "    for quote in quotes_serie:\n",
    "        scores.append(lexicon.analyze(quote, normalize = True))\n",
    "    \n",
    "    scores_df = pd.DataFrame(scores, columns = scores[1].keys()) \n",
    "    \n",
    "    return scores_df\n",
    "        \n",
    "    "
   ]
  },
  {
   "cell_type": "code",
   "execution_count": null,
   "metadata": {},
   "outputs": [],
   "source": [
    "#Categories of interest\n",
    "democrate_speakers = ['Bernie Sanders', 'Hillary Clinton', 'Elizabeth Warren', 'Kamala Harris', 'Alexandria Ocasio Cortez', 'Pete Buttigieg']\n",
    "republican_speakers = ['Mike Pence', 'Mitt Romney', 'Ted Cruz', 'Nikki Haley', 'Ben Carson', 'Marco Rubio']\n",
    "religious_speakers = ['Pope Francis']\n",
    "\n",
    "democrates_df = pre_processed_df.loc[pre_processed_df['speaker'].isin(democrate_speakers), 'pre_processed_quote'].copy()\n",
    "republicans_df = pre_processed_df.loc[pre_processed_df['speaker'].isin(republican_speakers), 'pre_processed_quote'].copy()\n",
    "religious_df = pre_processed_df.loc[pre_processed_df['speaker'].isin(religious_speakers), 'pre_processed_quote'].copy()\n",
    "\n",
    "#Analyze all lexical fields\n",
    "categories_df = []\n",
    "categories_df.append(mean_lexical_fields(democrates_df))\n",
    "categories_df.append(mean_lexical_fields(republicans_df))\n",
    "categories_df.append(mean_lexical_fields(religious_df))\n",
    "\n",
    "#build a summary dataframe:\n",
    "categories_df = pd.DataFrame(categories_df, index = ['Democrates','Republicans','Religious'])  \n",
    "categories_df"
   ]
  },
  {
   "cell_type": "markdown",
   "metadata": {},
   "source": [
    "Now we visualize the results. First we want to determine the prefered lexical fields for each categories:"
   ]
  },
  {
   "cell_type": "code",
   "execution_count": null,
   "metadata": {
    "scrolled": false
   },
   "outputs": [],
   "source": [
    "temp_df = categories_df.copy().T \n",
    "temp_df.reset_index(inplace=True)\n",
    "\n",
    "fig, ax = plt.subplots(1,3, figsize=(15, 33))\n",
    "\n",
    "palette = sns.color_palette(\"coolwarm\", n_colors = len(temp_df))\n",
    "palette.reverse()\n",
    "\n",
    "temp_df = temp_df.sort_values(by=['Democrates'],  ascending=False)\n",
    "sns.barplot(x = 'Democrates', y = 'index', data=temp_df, ax = ax[0], palette = palette)\n",
    "ax[0].set_title(\"Democrates lexical fields\")\n",
    "ax[0].set_xlabel(\"Mean score\")\n",
    "ax[0].set_ylabel(\"Lexical fields\")\n",
    "ax[0].spines['right'].set_visible(False)\n",
    "ax[0].spines['top'].set_visible(False)\n",
    "\n",
    "temp_df = temp_df.sort_values(by=['Republicans'],  ascending=False)\n",
    "sns.barplot(x = 'Republicans', y = 'index', data=temp_df, ax = ax[1], palette = palette)\n",
    "ax[1].set_title(\"Republicans lexical fields\")\n",
    "ax[1].set_xlabel(\"Mean score\")\n",
    "ax[1].set_ylabel(\"Lexical fields\")\n",
    "ax[1].spines['right'].set_visible(False)\n",
    "ax[1].spines['top'].set_visible(False)\n",
    "\n",
    "temp_df = temp_df.sort_values(by=['Religious'],  ascending=False)\n",
    "sns.barplot(x = 'Religious', y = 'index', data=temp_df, ax = ax[2], palette = palette)\n",
    "ax[2].set_title(\"Religious lexical fields\")\n",
    "ax[2].set_xlabel(\"Mean score\")\n",
    "ax[2].set_ylabel(\"Lexical fields\")\n",
    "ax[2].spines['right'].set_visible(False)\n",
    "ax[2].spines['right'].set_visible(False)\n",
    "ax[2].spines['top'].set_visible(False)\n",
    "\n",
    "fig.tight_layout(h_pad=2)"
   ]
  },
  {
   "cell_type": "markdown",
   "metadata": {},
   "source": [
    "We can compare the respective scores of our three categories to determine which categories are the closest in terms of lexical fields use:"
   ]
  },
  {
   "cell_type": "code",
   "execution_count": null,
   "metadata": {},
   "outputs": [],
   "source": [
    "temp_df = categories_df.copy().T.corr()\n",
    "\n",
    "fig, ax = plt.subplots(1,1, figsize=(5, 3))\n",
    "\n",
    "sns.heatmap(temp_df, annot = True, cmap = \"BuPu\", linewidths=.5)\n",
    "\n",
    "plt.title(\"Pearson's correlation coefficients of the lexical field scores\")\n",
    "plt.show()"
   ]
  },
  {
   "cell_type": "markdown",
   "metadata": {},
   "source": [
    "Now we are interested in keeping the 15 most common lexical fields for all three categories and compare their relative use and importance:"
   ]
  },
  {
   "cell_type": "code",
   "execution_count": null,
   "metadata": {},
   "outputs": [],
   "source": [
    "temp_df = categories_df.copy().T \n",
    "temp_df.reset_index(inplace=True)\n",
    "\n",
    "#number of quotes to keep per category\n",
    "N = 15\n",
    "\n",
    "#we isolate the 15 most common lexical fields from our three categories:\n",
    "temp_df = temp_df.sort_values(by=['Republicans'],  ascending=False, ignore_index=True)\n",
    "Rep_LFs = temp_df.loc[:N-1,'index'].values\n",
    "temp_df = temp_df.sort_values(by=['Democrates'],  ascending=False, ignore_index=True)\n",
    "Dem_LFs = temp_df.loc[:N-1,'index'].values\n",
    "temp_df = temp_df.sort_values(by=['Religious'],  ascending=False, ignore_index=True)\n",
    "Rel_LFs = temp_df.loc[:N-1,'index'].values\n",
    "\n",
    "#we remove dupplicates:\n",
    "most_common_LFs = Rep_LFs + Dem_LFs + Rel_LFs\n",
    "most_common_LFs = np.array(most_common_LFs).ravel()\n",
    "most_common_LFs = np.unique(most_common_LFs)"
   ]
  },
  {
   "cell_type": "code",
   "execution_count": null,
   "metadata": {},
   "outputs": [],
   "source": [
    "#Venn diagram\n",
    "\n",
    "A = set(Rep_LFs)\n",
    "B = set(Rel_LFs)\n",
    "C = set(Dem_LFs)\n",
    "\n",
    "fig, ax = plt.subplots(1,1, figsize=(10, 10))\n",
    "\n",
    "v = venn3([A, B, C], ('Republicans lexical fields', 'Religious lexical fields', 'Democrates lexical fields'))\n",
    "\n",
    "v.get_label_by_id('111').set_text('\\n'.join(A&B&C))\n",
    "v.get_label_by_id('110').set_text('\\n'.join(A&B-C))\n",
    "v.get_label_by_id('011').set_text('\\n'.join(B&C-A))\n",
    "v.get_label_by_id('101').set_text('\\n'.join(A&C-B))\n",
    "v.get_label_by_id('100').set_text('\\n'.join(A-B-C))\n",
    "v.get_label_by_id('010').set_text('\\n'.join(B-A-C))\n",
    "v.get_label_by_id('001').set_text('\\n'.join(C-A-B))\n",
    "\n",
    "plt.title(\"Which prominent lexical fields are shared?\", fontsize = 15)\n",
    "plt.show()"
   ]
  },
  {
   "cell_type": "code",
   "execution_count": null,
   "metadata": {},
   "outputs": [],
   "source": [
    "#we keep the 15 most common lexical fields of all three categories\n",
    "temp_df = categories_df.copy().T\n",
    "temp_df = temp_df.loc[most_common_LFs]\n",
    "temp_df.reset_index(inplace=True)\n",
    "temp_df = temp_df.sort_values(by=['Democrates', 'Republicans','Religious'],  ascending=False)\n",
    "temp_df = temp_df.melt(id_vars='index')\n",
    "\n",
    "##create a custom palette to use the traditional republican and democrates parties colors\n",
    "custom_colors = [\"#489ede\", \"#f94436\", '#f8d044']\n",
    "sns.set_palette(sns.color_palette(custom_colors))\n",
    "\n",
    "#we build a barplot\n",
    "fig, ax = plt.subplots(1,1, figsize=(15, 15))\n",
    "\n",
    "sns.barplot(x = 'value', y = 'index', hue = 'variable', data = temp_df)\n",
    "\n",
    "ax.set_title(\"Relative use of the most common lexical fields\")\n",
    "ax.set_xlabel(\"Mean lexical field score\")\n",
    "ax.set_ylabel(\"Lexical fields\")\n",
    "plt.legend(loc = 'upper left', facecolor=\"white\")\n",
    "\n",
    "fig.tight_layout(h_pad=2)"
   ]
  },
  {
   "cell_type": "markdown",
   "metadata": {},
   "source": [
    "### PCA on each quote's lexical fields"
   ]
  },
  {
   "cell_type": "markdown",
   "metadata": {},
   "source": [
    "As an additional lexical field analysis, we are interested in analyzing the lexical fields of each quote independantly, for the corpus of one speaker at a time. When we end up with the nbr_quotes x nbr_lexical_fields score matrix, we want to apply a PCA on it, each data point representing one quote. In the end we want:\n",
    "1. To apply PCA only on the pope corpus and plot the results in 2 dimensions. Maybe the quotes will form clusters depending on different general topics adressed by the pope. If that is the case, we could apply a clustering algorithm on them and study the characteristics of the clusters. Will one of those clusters reflect political topics?\n",
    "2. To apply PCA on all our three categories and plot the results in 2 dimensions, with one color per category. Will the pope quotes overlap the political parties quotes ? \n",
    "\n",
    "First we need to obtain the scores for all quotes of each speaker:"
   ]
  },
  {
   "cell_type": "code",
   "execution_count": null,
   "metadata": {},
   "outputs": [],
   "source": []
  },
  {
   "cell_type": "code",
   "execution_count": null,
   "metadata": {},
   "outputs": [],
   "source": [
    "scaler = StandardScaler()\n",
    "scaled_df = pd.DataFrame(scaler.fit_transform(all_features.loc[:,:'positive_emotion']), columns = all_features.loc[:,:'positive_emotion'].columns).copy()\n",
    "\n",
    "%matplotlib inline\n",
    "\n",
    "pca_screeplot = PCA(n_components=7)\n",
    "pca_screeplot.fit_transform(scaled_df)\n",
    "pca = PCA().fit(scaled_df)\n",
    "\n",
    "# Percentage variance explaines\n",
    "ratio = pca_screeplot.explained_variance_ratio_\n",
    "print('The 2D PCA contains',round((ratio[0]+ratio[1])*100,4),'% of the information' )\n",
    "print(\"\")\n",
    "print ('Component 1 contains',ratio[0]*100,'% of the information' )\n",
    "print ('Component 2 contains',ratio[1]*100,'% of the information' )\n",
    "print ('Component 3 contains',ratio[2]*100,'% of the information' )\n",
    "print(\"\")\n",
    "print ('So far,',(1-np.sum([ratio[0],ratio[1],ratio[2]]))*100,'% of the information has been lost' )\n",
    "\n",
    "#Scree Plot\n",
    "plt.ylabel(\"Eigenvalues\")\n",
    "plt.xlabel(\"Number of components\")\n",
    "plt.title(\"Scree plot for our PCA\")\n",
    "plt.axhline(y = 1, color = 'r', linestyle = '--')\n",
    "plt.plot(pca.explained_variance_)\n",
    "plt.show()\n"
   ]
  },
  {
   "cell_type": "markdown",
   "metadata": {},
   "source": [
    "## PCA on each speaker"
   ]
  },
  {
   "cell_type": "markdown",
   "metadata": {},
   "source": [
    "Now, we want to extract multiple summarizing features for each speaker, summarize those features using PCA and visualize the results."
   ]
  },
  {
   "cell_type": "markdown",
   "metadata": {},
   "source": [
    "### Feature extraction\n",
    "\n",
    "In this section, we perform feature selection on each speaker's corpus. We extract the following features from the quotes:\n",
    "\n",
    "* the median of the number of words, number of characters and occurences of the quotes\n",
    "* the richness of the vocabulary, that we compute by counting the number of different words in the pre-processed quotes and by dividing it by the total number of quotes of the speaker.\n",
    "* The scores returned by the analyze function of the Empath library for different lexical categories. \n",
    "\n",
    "A PRECISER UNE FOIS QU'ON AURA CHOISI LES LEXICAL FIELDS !!!\n",
    "\n",
    "\n",
    "* A count for the personnal pronouns usage of [\"I\", \"me\", \"myself\"], [\"you\", \"yourself\", \"yourselves\"] as well as [\"we\", \"us\", \"ourself\", \"ourselves\"] divided by the total number of words\n",
    "\n",
    "Note: The whole list of categories of the Empath library can be found following this link https://github.com/Ejhfast/empath-client/blob/master/empath/data/categories.tsv"
   ]
  },
  {
   "cell_type": "code",
   "execution_count": null,
   "metadata": {},
   "outputs": [],
   "source": [
    "def extract_features(df):\n",
    "    # Median of the number of words, characters and occurences in the quotes\n",
    "    features_nbr_words = pd.DataFrame(data = {'median_nbr_words': df['nbr_words'].median()}, index=[0])\n",
    "    features_nbr_chars = pd.DataFrame({'median_nbr_characters': df['nbr_characters'].median()}, index=[0])\n",
    "    features_nbr_occurences = pd.DataFrame({'median_nbr_occurences': df['nbr_occurences'].median()}, index=[0])\n",
    "\n",
    "    #Feature 'vocabulary richness'\n",
    "    all_words = pd.DataFrame(df['tokenized_quote'].explode(ignore_index=True)).rename({'tokenized_quote': 'word'}, axis=1)\n",
    "    unique_words = all_words.value_counts().rename_axis('word').reset_index(name='nbr_occurence')\n",
    "    feature_voc = pd.DataFrame({'voc_richness': len(unique_words)/len(df)}, index=[0])\n",
    "\n",
    "    #Features 'lexical fields'\n",
    "    features_lex_fields = pd.DataFrame([lexicon.analyze(df['pre_processed_quote'].str.cat(sep = ' '), normalize = True)])\n",
    "                                        \n",
    "    #Features personnal and possessive pronouns\n",
    "    all_tokens = df['tokenized_quote'].copy().to_list() #we gather a list of list of the tokenized quotes\n",
    "    all_tokens = [item for sub_list in all_tokens for item in sub_list] #we flatten the list of list\n",
    "    I_feature = count_mult_elements_list(all_tokens, [\"I\",\"me\",\"myself\"])/len(all_tokens)\n",
    "    you_feature = count_mult_elements_list(all_tokens, [\"you\",\"yourself\",\"yourselves\"])/len(all_tokens)\n",
    "    we_feature = count_mult_elements_list(all_tokens, [\"we\",\"us\",\"ourself\",\"ourselves\"])/len(all_tokens)\n",
    "    \n",
    "    features_pp = pd.DataFrame({\"I\": I_feature, \"You\": you_feature,\"We\": we_feature}, index = [0])\n",
    "    \n",
    "    #create feature matrix\n",
    "    features = pd.concat([features_nbr_words, features_nbr_chars, features_nbr_occurences, feature_voc, features_lex_fields, features_pp, pd.DataFrame([s[1]], columns=[\"category\"])], axis=1)    \n",
    "    \n",
    "    return features\n",
    "\n",
    "\n",
    "def count_mult_elements_list(list_, sublist):\n",
    "    \n",
    "    count = 0\n",
    "    \n",
    "    for element in sublist:\n",
    "        count += list_.count(element)\n",
    "    \n",
    "    return count\n"
   ]
  },
  {
   "cell_type": "markdown",
   "metadata": {},
   "source": [
    "Speakers are assigned a label based on their political party: 0 = apolitical (Pope), 1 = Democrats, 2 = Republicans"
   ]
  },
  {
   "cell_type": "code",
   "execution_count": null,
   "metadata": {},
   "outputs": [],
   "source": [
    "# We build a dataframe from the extracted features, one row per speaker\n",
    "speakers = [['Pope Francis',0],['Hillary Clinton',1],['Bernie Sanders',1],['Elizabeth Warren',1],['Pete Buttigieg', 1]['Mike Pence',2],['Mitt Romney',2],['Ted Cruz',2]]\n",
    "\n",
    "all_features = pd.DataFrame()\n",
    "\n",
    "for s in speakers:\n",
    "    \n",
    "    new_features = extract_features(pre_processed_df[pre_processed_df['speaker'].str.match(s[0])])\n",
    "    \n",
    "    all_features = all_features.append(new_features)\n",
    "    all_features.rename(index={0: s[0]}, inplace=True)\n",
    "\n",
    "all_features.to_pickle(\"../data/all_features.pkl\")\n",
    "all_features\n"
   ]
  },
  {
   "cell_type": "markdown",
   "metadata": {},
   "source": [
    "### Principal component analysis"
   ]
  },
  {
   "cell_type": "markdown",
   "metadata": {},
   "source": [
    "Now that we extracted our features of interest for each speaker's corpus of quotes, we want to apply a dimensionality reduction method in order to summarize those numerous features and to visualize our data into that reduced space. We chose to go for the principal component analysis (PCA) because it allows to decorrelate the features, maximize the variance of the data in the new space while still providing interpretable results as the components are linear combinations of the original features."
   ]
  },
  {
   "cell_type": "code",
   "execution_count": null,
   "metadata": {},
   "outputs": [],
   "source": [
    "#this allows to load the results of the feature extraction\n",
    "file = '../data/all_features.pkl'\n",
    "all_features = pd.read_pickle(file)"
   ]
  },
  {
   "cell_type": "markdown",
   "metadata": {},
   "source": [
    "It's important to normalize (zero mean and unit variance) the features before running the PCA because our different features have very different scales and we don't want the PCA results to be affected by that. We also wanted to make sure that keeping only 2 components do not lead us to loose too much of the original's data information."
   ]
  },
  {
   "cell_type": "code",
   "execution_count": null,
   "metadata": {},
   "outputs": [],
   "source": [
    "def pca_(scaled_df):\n",
    "\n",
    "    %matplotlib inline\n",
    "\n",
    "    pca_screeplot = PCA(n_components=7)\n",
    "    pca_screeplot.fit_transform(scaled_df)\n",
    "    pca = PCA().fit(scaled_df)\n",
    "\n",
    "    # Percentage variance explaines\n",
    "    ratio = pca_screeplot.explained_variance_ratio_\n",
    "    print('The 2D PCA contains',round((ratio[0]+ratio[1])*100,4),'% of the information' )\n",
    "    print(\"\")\n",
    "    print ('Component 1 contains',ratio[0]*100,'% of the information' )\n",
    "    print ('Component 2 contains',ratio[1]*100,'% of the information' )\n",
    "    print ('Component 3 contains',ratio[2]*100,'% of the information' )\n",
    "    print(\"\")\n",
    "    print ('So far,',(1-np.sum([ratio[0],ratio[1],ratio[2]]))*100,'% of the information has been lost' )\n",
    "    \n",
    "    #Scree Plot\n",
    "    plt.ylabel(\"Eigenvalues\")\n",
    "    plt.xlabel(\"Number of components\")\n",
    "    plt.title(\"Scree plot for our PCA\")\n",
    "    plt.axhline(y = 1, color = 'r', linestyle = '--')\n",
    "    plt.plot(pca.explained_variance_)\n",
    "    plt.show()\n",
    "        \n",
    "    return scaled_df, pca, pca_screeplot"
   ]
  },
  {
   "cell_type": "code",
   "execution_count": null,
   "metadata": {},
   "outputs": [],
   "source": [
    "def pca_features_importance(scaled_df):\n",
    "    \n",
    "    %matplotlib inline\n",
    "    plt.figure(figsize=(45,3))\n",
    "\n",
    "    pca_2d = PCA(n_components=2)\n",
    "    pca_2d.fit_transform(scaled_df)\n",
    "    pca = PCA().fit(scaled_df)\n",
    "\n",
    "    map_ = pd.DataFrame(pca_2d.components_,columns=scaled_df.columns)\n",
    "    sns.heatmap(map_,cmap=\"PiYG\")\n",
    "    plt.title(\"Features importance in Quotebank speakers PCA\")\n",
    "    plt.yticks([0,1],['Component 1','Component 2'], fontsize=10)\n",
    "    plt.xlabel('Features')\n",
    "    plt.show()"
   ]
  },
  {
   "cell_type": "code",
   "execution_count": null,
   "metadata": {},
   "outputs": [],
   "source": [
    "def pca_2D_(scaled_df, categories):\n",
    "    #2D PCA\n",
    "    PCA_2d = PCA(n_components=2)\n",
    "    PCs_2 = PCA_2d.fit_transform(scaled_df)\n",
    "    res_PCA_2d = pd.DataFrame(data = PCs_2, columns = ['Principal component 1', 'Principal component 2'])\n",
    "    \n",
    "    #Visualize results 2D PCA\n",
    "    %matplotlib inline\n",
    "\n",
    "    plt.figure(figsize=(10,10))\n",
    "    plt.xlabel('Principal Component 1',fontsize = 15)  \n",
    "    plt.ylabel('Principal Component 2',fontsize = 15)  \n",
    "    plt.title(\"PCA with 2 Components on Quotebank speakers\",fontsize=20) \n",
    "\n",
    "    plt.scatter(res_PCA_2d.loc[:,'Principal component 1'], res_PCA_2d.loc[:,'Principal component 2'], c = categories, s = 1000)\n",
    "\n",
    "    speakers = [['Pope Francis',0],['Hillary Clinton',1],['Bernie Sanders',1],['Elizabeth Warren',1],['Mike Pence',2],['Mitt Romney',2],['Ted Cruz',2]]\n",
    "\n",
    "    for i, speaker in enumerate(speakers):\n",
    "        plt.annotate(speaker[0], (res_PCA_2d.loc[:,'Principal component 1'][i], res_PCA_2d.loc[:,'Principal component 2'][i]), fontsize = 15)\n",
    "\n",
    "    plt.grid()\n",
    "    plt.savefig(\"../data/PCA_visualization.png\")\n",
    "    plt.show()\n",
    "    \n",
    "    return PCA_2d, PCs_2"
   ]
  },
  {
   "cell_type": "code",
   "execution_count": null,
   "metadata": {},
   "outputs": [],
   "source": [
    "def pca_analysis(features, categories):\n",
    "    scaler = StandardScaler()\n",
    "\n",
    "    scaled_df = pd.DataFrame(scaler.fit_transform(features), columns = features.columns).copy()\n",
    "    \n",
    "    scaled_df, pca, pca_screeplot = pca_(scaled_df)\n",
    "    \n",
    "    pca_features_importance(scaled_df)\n",
    "    \n",
    "    PCA_2d, PCs_2 = pca_2D_(scaled_df, categories)\n",
    "    "
   ]
  },
  {
   "cell_type": "code",
   "execution_count": null,
   "metadata": {},
   "outputs": [],
   "source": [
    "scaler = StandardScaler()\n",
    "\n",
    "pca_analysis(all_features.loc[:,'voc_richness':'We'], all_features['category'])\n"
   ]
  },
  {
   "cell_type": "markdown",
   "metadata": {},
   "source": [
    "According to the elbow criterion, keeping two components for the PCA makes sense. Moreover, by doing so, we are able to describe more than 80% of the original data variance which is satisfactory.\n",
    "\n",
    "We also wanted to bring some interpretability to our PCA's results by visualizing which features the principal components are correlated with."
   ]
  },
  {
   "cell_type": "markdown",
   "metadata": {},
   "source": [
    "From this heatmap, we can see that the first component is more or less positively correlated with all of our lexical fields features and is negatively correlated with the richness of the vocabulary of the speaker. Interestingly, component 2 seems to be negatively correlated with non-human-related lexical fields features (competing, law, economics, politics, leader, business, governement, dispute, money) while being positively correlated with emotions and religious topics (contentment, anger, joy, sadness, death, religion, worship)."
   ]
  },
  {
   "cell_type": "code",
   "execution_count": null,
   "metadata": {},
   "outputs": [],
   "source": [
    "#3D PCA\n",
    "PCA_3d = PCA(n_components=3)\n",
    "PCs_3 = PCA_3d.fit_transform(scaled_df)\n",
    "res_PCA_3d = pd.DataFrame(data = PCs_3, columns = ['Principal component 1', 'Principal component 2', 'Principal component 3'])"
   ]
  },
  {
   "cell_type": "markdown",
   "metadata": {},
   "source": [
    "The results of the PCA are interesting for a few reasons:\n",
    "- The Political parties (yellow and blue) are almost completely separeted from one another\n",
    "- The pope is completely isolated from the two parties (purple)\n",
    "- The politicians seem to form a sort of spectrum\n",
    "- Along component 1 we see that:\n",
    "    - The pope has by far the less rich vocabulary, this might be due to the fact that he is not a native english speaker and that most of his quotations are translations\n",
    "    - Republicans seem to have more vocabulary richness than Democrates\n",
    "- Along component 2 we see that:\n",
    "    - The pope is really not interested in speaking about law, economics, politics, business, governement and money but is really a big fan of talking about human emotions and religion\n",
    "    - Democrates seem to be more talking about law, economics, politics, business, governement and money than Republicans are"
   ]
  },
  {
   "cell_type": "markdown",
   "metadata": {},
   "source": [
    "### Validation of the PCA"
   ]
  },
  {
   "cell_type": "markdown",
   "metadata": {},
   "source": [
    "To gain confidence in our PCA results, we wanted to perform a cross-validation. To do so, we randomly draw subsamples of quotes for each of our speakers, extract the features for each of those subsamples and run the PCA. In other words, each speaker will not be represented by one single data point but by a small cloud. We expect the clouds to be rather small, even for small subsample sizes."
   ]
  },
  {
   "cell_type": "code",
   "execution_count": null,
   "metadata": {},
   "outputs": [],
   "source": [
    "speakers = [['Pope Francis',0,'mediumblue'],['Hillary Clinton',1,'darkorchid'],['Bernie Sanders',1,'hotpink'],['Elizabeth Warren',1,'cyan'],['Mike Pence',2,'gold'],['Mitt Romney',2,'tomato'],['Ted Cruz',2,'grey']]\n",
    "validation_df = pd.DataFrame()\n",
    "\n",
    "nbr_repetitions = 30\n",
    "size_subsample = 5000\n",
    "\n",
    "for s in speakers:\n",
    "    \n",
    "    #corpus of one speaker\n",
    "    temp_speaker = new_df[new_df['speaker'].str.match(s[0])]\n",
    "    \n",
    "    #we randomly a subsample of the speaker's quotes\n",
    "    for i in range(nbr_repetitions):\n",
    "        \n",
    "        temp_subsample = temp_speaker.sample(n=size_subsample)\n",
    "        #we extract the features of that subsample\n",
    "        temp_features = extract_features(temp_subsample)\n",
    "        temp_features['speaker'] = s[2]\n",
    "        \n",
    "        validation_df = validation_df.append(temp_features, ignore_index=True)"
   ]
  },
  {
   "cell_type": "code",
   "execution_count": null,
   "metadata": {},
   "outputs": [],
   "source": [
    "%matplotlib inline\n",
    "\n",
    "#scaling of the data\n",
    "scaler = StandardScaler()\n",
    "scaled_df = pd.DataFrame(scaler.fit_transform(validation_df.loc[:,:'positive_emotion']), columns = validation_df.loc[:,:'positive_emotion'].columns).copy()\n",
    "\n",
    "#2D PCA\n",
    "PCA_2d = PCA(n_components=2)\n",
    "PCs_2 = PCA_2d.fit_transform(scaled_df)\n",
    "res_PCA_2d = pd.DataFrame(data = PCs_2, columns = ['Principal component 1', 'Principal component 2'])\n",
    "\n",
    "#plot the PCA\n",
    "plt.figure(figsize=(8,8))\n",
    "plt.xlabel('Principal Component 1',fontsize = 15)  \n",
    "plt.ylabel('Principal Component 2',fontsize = 15)  \n",
    "plt.title(\"PCA with 2 Components on Quotebank speakers with repetitions\",fontsize=20) \n",
    "plt.scatter(res_PCA_2d.loc[:,'Principal component 1'], res_PCA_2d.loc[:,'Principal component 2'], c = validation_df['speaker'], alpha = 0.5)\n",
    "\n",
    "#legend of each datapoints cluster\n",
    "for i, s in enumerate(speakers):\n",
    "    plt.annotate(s[0], (res_PCA_2d.loc[:,'Principal component 1'][i*nbr_repetitions], res_PCA_2d.loc[:,'Principal component 2'][i*nbr_repetitions]))\n",
    "\n",
    "\n",
    "plt.grid()\n",
    "plt.show()"
   ]
  },
  {
   "cell_type": "markdown",
   "metadata": {},
   "source": [
    "We are satisfied with the size of each speaker's cluster because it shows that even for a small number of quotes, the results of our method are highly reproducible. On the other hand, we are still unsure why the position of each speaker's cloud changed. We will need further analyses to find an explanation."
   ]
  },
  {
   "cell_type": "markdown",
   "metadata": {},
   "source": [
    "# Feature selection"
   ]
  },
  {
   "cell_type": "code",
   "execution_count": null,
   "metadata": {},
   "outputs": [],
   "source": [
    "#this allows to load the results of the feature extraction\n",
    "file = '../data/all_features.pkl'\n",
    "all_features = pd.read_pickle(file)\n",
    "\n",
    "unselected_features = all_features.loc[:,'voc_richness':'We'].copy()\n",
    "categories = all_features['category'].copy()\n",
    "#with pd.option_context('display.max_rows', None, 'display.max_columns', None):\n",
    "#    print(unselected_features.var().sort_values())\n",
    "unselected_features"
   ]
  },
  {
   "cell_type": "markdown",
   "metadata": {},
   "source": [
    "## Low variance removal"
   ]
  },
  {
   "cell_type": "code",
   "execution_count": null,
   "metadata": {},
   "outputs": [],
   "source": [
    "vt = VarianceThreshold(threshold=0.00001) #default arg threshold=0\n",
    "_ = vt.fit(unselected_features)\n",
    "\n",
    "mask = vt.get_support()\n",
    "selected_features_1 = unselected_features.loc[:, mask]\n",
    "selected_features_1.head()"
   ]
  },
  {
   "cell_type": "code",
   "execution_count": null,
   "metadata": {},
   "outputs": [],
   "source": [
    "sns.clustermap(selected_features_1, cmap='cividis', yticklabels = all_features.index, z_score=True)\n",
    "plt.show()"
   ]
  },
  {
   "cell_type": "markdown",
   "metadata": {},
   "source": [
    "## Removal of collinear features (correlation matrix)"
   ]
  },
  {
   "cell_type": "code",
   "execution_count": null,
   "metadata": {},
   "outputs": [],
   "source": [
    "corr = selected_features_1.corr(method='spearman') #method='spearman'. Default -> Pearson\n",
    "plt.figure(figsize=(15,15))\n",
    "sns.heatmap(corr, cmap='cividis')"
   ]
  },
  {
   "cell_type": "code",
   "execution_count": null,
   "metadata": {},
   "outputs": [],
   "source": [
    "# Removal of \n",
    "columns = np.full((corr.shape[0],), True, dtype=bool)\n",
    "for i in range(corr.shape[0]):\n",
    "    for j in range(i+1, corr.shape[0]):\n",
    "        if corr.iloc[i,j] >= 0.95:\n",
    "            if columns[j]:\n",
    "                columns[j] = False\n",
    "selected_columns = selected_features_1.columns[columns]\n",
    "selected_features_2 = selected_features_1[selected_columns]\n",
    "selected_features_2.head()"
   ]
  },
  {
   "cell_type": "code",
   "execution_count": null,
   "metadata": {},
   "outputs": [],
   "source": [
    "new_corr = selected_features_2.corr() #method='spearman'\n",
    "plt.figure(figsize=(15,15))\n",
    "sns.heatmap(new_corr, cmap='cividis')"
   ]
  },
  {
   "cell_type": "code",
   "execution_count": null,
   "metadata": {},
   "outputs": [],
   "source": [
    "#Hierarchical clustering\n",
    "sns.clustermap(selected_features_2, cmap='cividis', yticklabels = all_features.index, z_score=True)\n",
    "plt.show()\n"
   ]
  },
  {
   "cell_type": "markdown",
   "metadata": {},
   "source": [
    "## PCA analysis"
   ]
  },
  {
   "cell_type": "code",
   "execution_count": null,
   "metadata": {},
   "outputs": [],
   "source": [
    "pca_analysis(unselected_features, categories) #198 features\n",
    "pca_analysis(selected_features_1, categories) #38 features (no low variance)\n",
    "pca_analysis(selected_features_2, categories) #29 features\n"
   ]
  },
  {
   "cell_type": "code",
   "execution_count": null,
   "metadata": {},
   "outputs": [],
   "source": []
  }
 ],
 "metadata": {
  "kernelspec": {
   "display_name": "Python 3",
   "language": "python",
   "name": "python3"
  },
  "language_info": {
   "codemirror_mode": {
    "name": "ipython",
    "version": 3
   },
   "file_extension": ".py",
   "mimetype": "text/x-python",
   "name": "python",
   "nbconvert_exporter": "python",
   "pygments_lexer": "ipython3",
   "version": "3.8.3"
  },
  "toc": {
   "base_numbering": 1,
   "nav_menu": {},
   "number_sections": false,
   "sideBar": true,
   "skip_h1_title": false,
   "title_cell": "Table of Contents",
   "title_sidebar": "Contents",
   "toc_cell": false,
   "toc_position": {
    "height": "calc(100% - 180px)",
    "left": "10px",
    "top": "150px",
    "width": "320px"
   },
   "toc_section_display": true,
   "toc_window_display": true
  }
 },
 "nbformat": 4,
 "nbformat_minor": 4
}
