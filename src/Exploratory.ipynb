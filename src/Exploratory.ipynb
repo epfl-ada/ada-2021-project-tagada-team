{
 "cells": [
  {
   "cell_type": "code",
   "execution_count": 121,
   "metadata": {},
   "outputs": [
    {
     "name": "stderr",
     "output_type": "stream",
     "text": [
      "[nltk_data] Downloading package punkt to\n",
      "[nltk_data]     /Users/paulmoreau/nltk_data...\n",
      "[nltk_data]   Package punkt is already up-to-date!\n"
     ]
    },
    {
     "data": {
      "text/plain": [
       "True"
      ]
     },
     "execution_count": 121,
     "metadata": {},
     "output_type": "execute_result"
    }
   ],
   "source": [
    "import pandas as pd\n",
    "import bz2\n",
    "import json\n",
    "import re\n",
    "import math\n",
    "import pickle\n",
    "import statistics as stat\n",
    "import matplotlib.pyplot as plt\n",
    "import numpy as np\n",
    "import time\n",
    "import string\n",
    "#!pip install langdetect\n",
    "from langdetect import detect\n",
    "\n",
    "import seaborn as sns\n",
    "import fastcluster\n",
    "#conda install -c conda-forge fastcluster\n",
    "\n",
    "#NLP libraries\n",
    "#pip install -U spacy\n",
    "#python -m spacy download en_core_web_sm\n",
    "import nltk, spacy, sklearn\n",
    "from spacy.lang.en import English\n",
    "\n",
    "from nltk.corpus import stopwords\n",
    "from nltk.tokenize import word_tokenize\n",
    "from nltk.tokenize import TweetTokenizer\n",
    "\n",
    "import vaderSentiment\n",
    "from vaderSentiment.vaderSentiment import SentimentIntensityAnalyzer\n",
    "#pip install vaderSentiment\n",
    "\n",
    "\n",
    "nltk.download('punkt')"
   ]
  },
  {
   "cell_type": "code",
   "execution_count": 122,
   "metadata": {},
   "outputs": [],
   "source": [
    "Path = \"../data/Pope-quotes.pkl\"\n",
    "file = open(Path,'rb')\n",
    "df = pickle.load(file)"
   ]
  },
  {
   "cell_type": "markdown",
   "metadata": {},
   "source": [
    "# Pre-processing"
   ]
  },
  {
   "cell_type": "code",
   "execution_count": 123,
   "metadata": {},
   "outputs": [
    {
     "data": {
      "text/html": [
       "<div>\n",
       "<style scoped>\n",
       "    .dataframe tbody tr th:only-of-type {\n",
       "        vertical-align: middle;\n",
       "    }\n",
       "\n",
       "    .dataframe tbody tr th {\n",
       "        vertical-align: top;\n",
       "    }\n",
       "\n",
       "    .dataframe thead th {\n",
       "        text-align: right;\n",
       "    }\n",
       "</style>\n",
       "<table border=\"1\" class=\"dataframe\">\n",
       "  <thead>\n",
       "    <tr style=\"text-align: right;\">\n",
       "      <th></th>\n",
       "      <th>quote</th>\n",
       "      <th>speaker</th>\n",
       "      <th>probability</th>\n",
       "      <th>second_speaker</th>\n",
       "      <th>second_probability</th>\n",
       "      <th>third_speaker</th>\n",
       "      <th>third_probability</th>\n",
       "      <th>date</th>\n",
       "      <th>nbr_occurences</th>\n",
       "      <th>phase</th>\n",
       "      <th>nbr_words</th>\n",
       "      <th>nbr_characters</th>\n",
       "      <th>nbr_speakers</th>\n",
       "    </tr>\n",
       "  </thead>\n",
       "  <tbody>\n",
       "    <tr>\n",
       "      <th>0</th>\n",
       "      <td>a good father knows how to wait, and knows how...</td>\n",
       "      <td>Pope Francis</td>\n",
       "      <td>0.7727</td>\n",
       "      <td>None</td>\n",
       "      <td>0.2215</td>\n",
       "      <td>Thomas Rosica</td>\n",
       "      <td>0.0058</td>\n",
       "      <td>2015-02-06 15:31:07</td>\n",
       "      <td>2</td>\n",
       "      <td>E</td>\n",
       "      <td>18</td>\n",
       "      <td>87</td>\n",
       "      <td>3</td>\n",
       "    </tr>\n",
       "    <tr>\n",
       "      <th>1</th>\n",
       "      <td>I don't have an ear for it,</td>\n",
       "      <td>Pope Francis</td>\n",
       "      <td>0.7834</td>\n",
       "      <td>None</td>\n",
       "      <td>0.1408</td>\n",
       "      <td>Mark Miles</td>\n",
       "      <td>0.0758</td>\n",
       "      <td>2015-09-25 01:44:00</td>\n",
       "      <td>1</td>\n",
       "      <td>E</td>\n",
       "      <td>8</td>\n",
       "      <td>27</td>\n",
       "      <td>3</td>\n",
       "    </tr>\n",
       "    <tr>\n",
       "      <th>2</th>\n",
       "      <td>Ask `What does this say to my heart? What is G...</td>\n",
       "      <td>Pope Francis</td>\n",
       "      <td>0.9272</td>\n",
       "      <td>None</td>\n",
       "      <td>0.0728</td>\n",
       "      <td>NaN</td>\n",
       "      <td>NaN</td>\n",
       "      <td>2015-12-03 21:20:49</td>\n",
       "      <td>1</td>\n",
       "      <td>E</td>\n",
       "      <td>17</td>\n",
       "      <td>82</td>\n",
       "      <td>2</td>\n",
       "    </tr>\n",
       "    <tr>\n",
       "      <th>3</th>\n",
       "      <td>Be praised, my Lord, through our sister Mother...</td>\n",
       "      <td>Pope Francis</td>\n",
       "      <td>0.7581</td>\n",
       "      <td>None</td>\n",
       "      <td>0.2419</td>\n",
       "      <td>NaN</td>\n",
       "      <td>NaN</td>\n",
       "      <td>2015-06-19 00:49:49</td>\n",
       "      <td>1</td>\n",
       "      <td>E</td>\n",
       "      <td>24</td>\n",
       "      <td>137</td>\n",
       "      <td>2</td>\n",
       "    </tr>\n",
       "    <tr>\n",
       "      <th>4</th>\n",
       "      <td>But he's already taken a number of important s...</td>\n",
       "      <td>Pope Francis</td>\n",
       "      <td>0.5039</td>\n",
       "      <td>None</td>\n",
       "      <td>0.4961</td>\n",
       "      <td>NaN</td>\n",
       "      <td>NaN</td>\n",
       "      <td>2015-07-28 19:34:53</td>\n",
       "      <td>2</td>\n",
       "      <td>E</td>\n",
       "      <td>20</td>\n",
       "      <td>103</td>\n",
       "      <td>2</td>\n",
       "    </tr>\n",
       "    <tr>\n",
       "      <th>...</th>\n",
       "      <td>...</td>\n",
       "      <td>...</td>\n",
       "      <td>...</td>\n",
       "      <td>...</td>\n",
       "      <td>...</td>\n",
       "      <td>...</td>\n",
       "      <td>...</td>\n",
       "      <td>...</td>\n",
       "      <td>...</td>\n",
       "      <td>...</td>\n",
       "      <td>...</td>\n",
       "      <td>...</td>\n",
       "      <td>...</td>\n",
       "    </tr>\n",
       "    <tr>\n",
       "      <th>102988</th>\n",
       "      <td>the Gospel of Jesus Christ is the greatest jus...</td>\n",
       "      <td>Pope Francis</td>\n",
       "      <td>0.8534</td>\n",
       "      <td>None</td>\n",
       "      <td>0.1466</td>\n",
       "      <td>NaN</td>\n",
       "      <td>NaN</td>\n",
       "      <td>2020-03-11 15:05:20</td>\n",
       "      <td>1</td>\n",
       "      <td>E</td>\n",
       "      <td>33</td>\n",
       "      <td>165</td>\n",
       "      <td>2</td>\n",
       "    </tr>\n",
       "    <tr>\n",
       "      <th>102989</th>\n",
       "      <td>from the bishop to the foreigner, from the pri...</td>\n",
       "      <td>Pope Francis</td>\n",
       "      <td>0.7182</td>\n",
       "      <td>None</td>\n",
       "      <td>0.2818</td>\n",
       "      <td>NaN</td>\n",
       "      <td>NaN</td>\n",
       "      <td>2020-01-17 16:07:41</td>\n",
       "      <td>1</td>\n",
       "      <td>E</td>\n",
       "      <td>46</td>\n",
       "      <td>278</td>\n",
       "      <td>2</td>\n",
       "    </tr>\n",
       "    <tr>\n",
       "      <th>102990</th>\n",
       "      <td>`saw the son coming from afar,' that son who h...</td>\n",
       "      <td>Pope Francis</td>\n",
       "      <td>0.7372</td>\n",
       "      <td>None</td>\n",
       "      <td>0.2628</td>\n",
       "      <td>NaN</td>\n",
       "      <td>NaN</td>\n",
       "      <td>2020-03-20 13:13:06</td>\n",
       "      <td>1</td>\n",
       "      <td>E</td>\n",
       "      <td>20</td>\n",
       "      <td>96</td>\n",
       "      <td>2</td>\n",
       "    </tr>\n",
       "    <tr>\n",
       "      <th>102991</th>\n",
       "      <td>This prayer of the Angelus today is a little s...</td>\n",
       "      <td>Pope Francis</td>\n",
       "      <td>0.7234</td>\n",
       "      <td>None</td>\n",
       "      <td>0.2766</td>\n",
       "      <td>NaN</td>\n",
       "      <td>NaN</td>\n",
       "      <td>2020-03-08 20:57:39</td>\n",
       "      <td>1</td>\n",
       "      <td>E</td>\n",
       "      <td>28</td>\n",
       "      <td>125</td>\n",
       "      <td>2</td>\n",
       "    </tr>\n",
       "    <tr>\n",
       "      <th>102992</th>\n",
       "      <td>We are worth so much more. We live for so much...</td>\n",
       "      <td>Pope Francis</td>\n",
       "      <td>0.7821</td>\n",
       "      <td>None</td>\n",
       "      <td>0.2179</td>\n",
       "      <td>NaN</td>\n",
       "      <td>NaN</td>\n",
       "      <td>2020-02-28 08:15:46</td>\n",
       "      <td>1</td>\n",
       "      <td>E</td>\n",
       "      <td>26</td>\n",
       "      <td>112</td>\n",
       "      <td>2</td>\n",
       "    </tr>\n",
       "  </tbody>\n",
       "</table>\n",
       "<p>102993 rows × 13 columns</p>\n",
       "</div>"
      ],
      "text/plain": [
       "                                                    quote       speaker  \\\n",
       "0       a good father knows how to wait, and knows how...  Pope Francis   \n",
       "1                             I don't have an ear for it,  Pope Francis   \n",
       "2       Ask `What does this say to my heart? What is G...  Pope Francis   \n",
       "3       Be praised, my Lord, through our sister Mother...  Pope Francis   \n",
       "4       But he's already taken a number of important s...  Pope Francis   \n",
       "...                                                   ...           ...   \n",
       "102988  the Gospel of Jesus Christ is the greatest jus...  Pope Francis   \n",
       "102989  from the bishop to the foreigner, from the pri...  Pope Francis   \n",
       "102990  `saw the son coming from afar,' that son who h...  Pope Francis   \n",
       "102991  This prayer of the Angelus today is a little s...  Pope Francis   \n",
       "102992  We are worth so much more. We live for so much...  Pope Francis   \n",
       "\n",
       "        probability second_speaker  second_probability  third_speaker  \\\n",
       "0            0.7727           None              0.2215  Thomas Rosica   \n",
       "1            0.7834           None              0.1408     Mark Miles   \n",
       "2            0.9272           None              0.0728            NaN   \n",
       "3            0.7581           None              0.2419            NaN   \n",
       "4            0.5039           None              0.4961            NaN   \n",
       "...             ...            ...                 ...            ...   \n",
       "102988       0.8534           None              0.1466            NaN   \n",
       "102989       0.7182           None              0.2818            NaN   \n",
       "102990       0.7372           None              0.2628            NaN   \n",
       "102991       0.7234           None              0.2766            NaN   \n",
       "102992       0.7821           None              0.2179            NaN   \n",
       "\n",
       "        third_probability                 date  nbr_occurences phase  \\\n",
       "0                  0.0058  2015-02-06 15:31:07               2     E   \n",
       "1                  0.0758  2015-09-25 01:44:00               1     E   \n",
       "2                     NaN  2015-12-03 21:20:49               1     E   \n",
       "3                     NaN  2015-06-19 00:49:49               1     E   \n",
       "4                     NaN  2015-07-28 19:34:53               2     E   \n",
       "...                   ...                  ...             ...   ...   \n",
       "102988                NaN  2020-03-11 15:05:20               1     E   \n",
       "102989                NaN  2020-01-17 16:07:41               1     E   \n",
       "102990                NaN  2020-03-20 13:13:06               1     E   \n",
       "102991                NaN  2020-03-08 20:57:39               1     E   \n",
       "102992                NaN  2020-02-28 08:15:46               1     E   \n",
       "\n",
       "        nbr_words  nbr_characters  nbr_speakers  \n",
       "0              18              87             3  \n",
       "1               8              27             3  \n",
       "2              17              82             2  \n",
       "3              24             137             2  \n",
       "4              20             103             2  \n",
       "...           ...             ...           ...  \n",
       "102988         33             165             2  \n",
       "102989         46             278             2  \n",
       "102990         20              96             2  \n",
       "102991         28             125             2  \n",
       "102992         26             112             2  \n",
       "\n",
       "[102993 rows x 13 columns]"
      ]
     },
     "execution_count": 123,
     "metadata": {},
     "output_type": "execute_result"
    }
   ],
   "source": [
    "pre_processed_df = df.copy()\n",
    "\n",
    "#modify the types of the probabilities (from Object to float)\n",
    "pre_processed_df['probability'] = pre_processed_df['probability'].astype(np.float)\n",
    "pre_processed_df['second_probability'] = pre_processed_df['second_probability'].astype(np.float)\n",
    "pre_processed_df['third_probability'] = pre_processed_df['third_probability'].astype(np.float)\n",
    "pre_processed_df"
   ]
  },
  {
   "cell_type": "markdown",
   "metadata": {},
   "source": [
    "## Tokenization"
   ]
  },
  {
   "cell_type": "markdown",
   "metadata": {},
   "source": [
    "Filtering the total lists of words to obtain a list of unique words with their according frequency in the dataset (-> words_freq). Removal of all the common words to obtain a more relevant list of the words used, to study the lexical fields"
   ]
  },
  {
   "cell_type": "code",
   "execution_count": 5,
   "metadata": {},
   "outputs": [
    {
     "name": "stdout",
     "output_type": "stream",
     "text": [
      "--- 19.961794137954712 seconds ---\n",
      "--- 22.181391954421997 seconds ---\n",
      "--- 9.366783142089844 seconds ---\n"
     ]
    }
   ],
   "source": [
    "# Tokenization to isolate each words of each quote\n",
    "\n",
    "start_time = time.time()\n",
    "pre_processed_df['tokenized'] = pre_processed_df.apply(lambda row: nltk.word_tokenize(row['quote']), axis=1)\n",
    "print(\"--- %s seconds ---\" % (time.time() - start_time))\n",
    "\n",
    "start_time = time.time()\n",
    "pre_processed_df['tokenized_text'] = df['quote'].apply(word_tokenize) \n",
    "print(\"--- %s seconds ---\" % (time.time() - start_time))\n",
    "\n",
    "start_time = time.time()\n",
    "tt = TweetTokenizer()\n",
    "pre_processed_df['tokenized_text_tweet'] = pre_processed_df['quote'].apply(tt.tokenize)\n",
    "print(\"--- %s seconds ---\" % (time.time() - start_time))\n",
    "\n"
   ]
  },
  {
   "cell_type": "code",
   "execution_count": 45,
   "metadata": {},
   "outputs": [],
   "source": [
    "# compute the frequency of each words\n",
    "total_words = pd.DataFrame(np.concatenate(pd.concat([pre_processed_df['tokenized']], axis = 0)),columns=['word'])\n",
    "words_freq = total_words.value_counts().rename_axis('word').reset_index(name='nbr_occurence')\n"
   ]
  },
  {
   "cell_type": "code",
   "execution_count": 49,
   "metadata": {},
   "outputs": [
    {
     "name": "stdout",
     "output_type": "stream",
     "text": [
      "24.9229850572369\n"
     ]
    }
   ],
   "source": [
    "score = len(words_freq)/len(pre_processed_df)\n",
    "print(score)"
   ]
  },
  {
   "cell_type": "code",
   "execution_count": 11,
   "metadata": {},
   "outputs": [
    {
     "name": "stdout",
     "output_type": "stream",
     "text": [
      "       word\n",
      "0         a\n",
      "1      good\n",
      "2    father\n",
      "3     knows\n",
      "4       how\n",
      "5        to\n",
      "6      wait\n",
      "7         ,\n",
      "8       and\n",
      "9     knows\n",
      "10      how\n",
      "11       to\n",
      "12  forgive\n",
      "13     from\n",
      "14      the\n",
      "15   bottom\n",
      "16       of\n",
      "17      his\n",
      "18    heart\n",
      "19        .\n",
      "20        I\n",
      "21       do\n",
      "22      n't\n",
      "23     have\n",
      "24       an\n",
      "25      ear\n",
      "26      for\n",
      "27       it\n",
      "28        ,\n",
      "29      Ask\n",
      "30        `\n",
      "31     What\n",
      "32     does\n",
      "33     this\n",
      "34      say\n",
      "35       to\n",
      "36       my\n",
      "37    heart\n",
      "38        ?\n",
      "39     What\n",
      "40       is\n",
      "41      God\n",
      "42   saying\n",
      "43       to\n",
      "44       me\n",
      "45  through\n",
      "46    these\n",
      "47    words\n",
      "48        ?\n",
      "49       Be\n"
     ]
    }
   ],
   "source": [
    "# removal of all stop words and punctuation \n",
    "stop_words = stopwords.words('english')\n",
    "stop_words.extend(spacy.lang.en.stop_words.STOP_WORDS)\n",
    "stop_words.extend([singer.capitalize() for singer in stop_words]) #stop words with capitale\n",
    "stop_words.extend(list(string.punctuation))\n",
    "\n",
    "new_words_freq = words_freq[~words_freq['word'].isin(stop_words)] #remove stop words and punctuation\n",
    "print(total_words[:50])\n",
    "\n",
    "#words with 2 or less characters\n",
    "small_words = new_words_freq.loc[new_words_freq['word'].str.len() <= 2]"
   ]
  },
  {
   "cell_type": "markdown",
   "metadata": {},
   "source": [
    "change n in 'len() >= n' to decide which words you want to see. Filter useful beacause most recurrent words are: that, or, etc..."
   ]
  },
  {
   "cell_type": "code",
   "execution_count": 12,
   "metadata": {},
   "outputs": [],
   "source": [
    "mask = (total_words['word'].str.len() >= 8)\n",
    "total_words = total_words.loc[mask]"
   ]
  },
  {
   "cell_type": "code",
   "execution_count": 13,
   "metadata": {},
   "outputs": [
    {
     "name": "stdout",
     "output_type": "stream",
     "text": [
      "children       3194\n",
      "Christian      2431\n",
      "violence       2042\n",
      "brothers       1972\n",
      "ourselves      1679\n",
      "together       1633\n",
      "dialogue       1611\n",
      "Christians     1545\n",
      "community      1535\n",
      "families       1509\n",
      "everyone       1502\n",
      "something      1440\n",
      "suffering      1417\n",
      "especially     1416\n",
      "humanity       1373\n",
      "religious      1372\n",
      "everything     1368\n",
      "important      1262\n",
      "encounter      1117\n",
      "themselves     1105\n",
      "different      1093\n",
      "Catholic       1087\n",
      "forgiveness    1077\n",
      "spiritual      1026\n",
      "solidarity     1008\n",
      "understand      966\n",
      "political       962\n",
      "experience      916\n",
      "faithful        915\n",
      "continue        869\n",
      "Name: word, dtype: int64\n"
     ]
    }
   ],
   "source": [
    "frequency = total_words.word.value_counts()[0:30]\n",
    "print(frequency)"
   ]
  },
  {
   "cell_type": "code",
   "execution_count": 14,
   "metadata": {},
   "outputs": [
    {
     "data": {
      "text/plain": [
       "(array([0]),)"
      ]
     },
     "execution_count": 14,
     "metadata": {},
     "output_type": "execute_result"
    }
   ],
   "source": [
    "np.where(len(total_words.word) >= 4 )"
   ]
  },
  {
   "cell_type": "markdown",
   "metadata": {},
   "source": [
    "## Language filtering"
   ]
  },
  {
   "cell_type": "code",
   "execution_count": null,
   "metadata": {},
   "outputs": [],
   "source": [
    "index = []\n",
    "\n",
    "for n, quote_ in enumerate(pre_processed_df['quote']) :\n",
    "    \n",
    "    value = detect(quote_)\n",
    "    \n",
    "    if value != \"en\":\n",
    "        #language.append(value)\n",
    "        #pre_processed_df.drop(n)\n",
    "        index.append(n)\n",
    "    \n",
    "pre_processed_df.drop(index, inplace=True)\n",
    "\n",
    "print(\"Percentage of non english quotes that were removed :\", (len(df)-len(pre_processed_df))/len(df)*100)\n"
   ]
  },
  {
   "cell_type": "markdown",
   "metadata": {},
   "source": [
    "## First speaker probability filtering"
   ]
  },
  {
   "cell_type": "code",
   "execution_count": 133,
   "metadata": {},
   "outputs": [
    {
     "data": {
      "text/plain": [
       "Text(0, 0.5, 'number of quotes')"
      ]
     },
     "execution_count": 133,
     "metadata": {},
     "output_type": "execute_result"
    },
    {
     "data": {
      "image/png": "[encoded data removed]",
      "text/plain": [
       "<Figure size 432x288 with 1 Axes>"
      ]
     },
     "metadata": {
      "needs_background": "light"
     },
     "output_type": "display_data"
    }
   ],
   "source": [
    "_=plt.hist(pre_processed_df.probability,bins=100)\n",
    "plt.xlabel('first speaker probability')\n",
    "plt.ylabel('number of quotes')"
   ]
  },
  {
   "cell_type": "code",
   "execution_count": 129,
   "metadata": {},
   "outputs": [
    {
     "data": {
      "image/png": "[encoded data removed]",
      "text/plain": [
       "<Figure size 432x288 with 1 Axes>"
      ]
     },
     "metadata": {
      "needs_background": "light"
     },
     "output_type": "display_data"
    }
   ],
   "source": [
    "_=plt.boxplot(pre_processed_df.probability)"
   ]
  },
  {
   "cell_type": "code",
   "execution_count": 130,
   "metadata": {},
   "outputs": [
    {
     "data": {
      "text/plain": [
       "count    102993.000000\n",
       "mean          0.735559\n",
       "std           0.131016\n",
       "min           0.132500\n",
       "25%           0.639800\n",
       "50%           0.746200\n",
       "75%           0.842200\n",
       "max           0.981800\n",
       "Name: probability, dtype: float64"
      ]
     },
     "execution_count": 130,
     "metadata": {},
     "output_type": "execute_result"
    }
   ],
   "source": [
    "pre_processed_df.probability.describe()"
   ]
  },
  {
   "cell_type": "code",
   "execution_count": 134,
   "metadata": {},
   "outputs": [
    {
     "data": {
      "text/plain": [
       "Text(0, 0.5, 'number of quotes')"
      ]
     },
     "execution_count": 134,
     "metadata": {},
     "output_type": "execute_result"
    },
    {
     "data": {
      "image/png": "[encoded data removed]",
      "text/plain": [
       "<Figure size 432x288 with 1 Axes>"
      ]
     },
     "metadata": {
      "needs_background": "light"
     },
     "output_type": "display_data"
    }
   ],
   "source": [
    "processed_df = pre_processed_df.copy()\n",
    "processed_df.drop(processed_df.query('probability <= 0.5').index, inplace=True)\n",
    "\n",
    "_=plt.hist(processed_df.probability,bins=100)\n",
    "plt.xlabel('first speaker probability')\n",
    "plt.ylabel('number of quotes')"
   ]
  },
  {
   "cell_type": "markdown",
   "metadata": {},
   "source": [
    "## Analysis of second and third speakers\n",
    "Reccurences of 20 most confused second/third speakers with the Pope:"
   ]
  },
  {
   "cell_type": "code",
   "execution_count": 16,
   "metadata": {},
   "outputs": [
    {
     "data": {
      "text/plain": [
       "None                                         26332\n",
       "John Paul                                     2053\n",
       "President Donald Trump                         715\n",
       "Donald Trump                                   615\n",
       "Thomas D. Williams                             430\n",
       "Benedict XVI                                   395\n",
       "President Barack Obama                         310\n",
       "President Trump                                299\n",
       "Pietro Parolin                                 289\n",
       "Pope Benedict XVI                              287\n",
       "Oscar Romero                                   245\n",
       "Federico Lombardi                              244\n",
       "President Obama                                239\n",
       "Theodore McCarrick                             196\n",
       "Fernando Karadima                              185\n",
       "Kim Davis                                      155\n",
       "George Pell                                    150\n",
       "Carlo Maria Vigano                             141\n",
       "Abraham Lincoln                                136\n",
       "Juan Carlos                                    132\n",
       "Matteo Salvini                                 121\n",
       "Carlo Maria Viganò                             116\n",
       "Eugenio Scalfari                               114\n",
       "Aung San Suu Kyi                               111\n",
       "Justin Welby                                   111\n",
       "Raul Castro                                    106\n",
       "Father Jacques Hamel                           106\n",
       "Charles Borromeo                               104\n",
       "Donald Wuerl                                   104\n",
       "Patriarch Bartholomew I of Constantinople      101\n",
       "dtype: int64"
      ]
     },
     "execution_count": 16,
     "metadata": {},
     "output_type": "execute_result"
    }
   ],
   "source": [
    "check = pre_processed_df.copy().dropna()\n",
    "aaa = check[['second_speaker', 'third_speaker']].stack()\n",
    "aaa.value_counts()[0:30]"
   ]
  },
  {
   "cell_type": "markdown",
   "metadata": {},
   "source": [
    "Observations:  We can see couple of Pope Francis predescessors (John Paul, Benedict XVI) and other figures related to the catholic church (Pietro Parolin or Oscar Romero). In total, Trump has 715+615+299 = 1629 quotes which makes him the second most probable confusion with Pope (based on number of occurences). Moreover there is regular association with Barack Obama"
   ]
  },
  {
   "cell_type": "markdown",
   "metadata": {},
   "source": [
    "I will now try to assemble a same entity under a unique name for Obama (in Barack Obama) and Trump (in Donald Trump) without the term \"President\" as they didn't always have this title in the 2015-2021 time frame. (here done manually but could try with np.where() ?"
   ]
  },
  {
   "cell_type": "code",
   "execution_count": 17,
   "metadata": {},
   "outputs": [],
   "source": [
    "check.loc[check.second_speaker == \"President Donald Trump\", 'second_speaker'] = \"Donald Trump\"\n",
    "check.loc[check.second_speaker == \"President Trump\", 'second_speaker'] = \"Donald Trump\"\n",
    "check.loc[check.third_speaker == \"President Donald Trump\", 'third_speaker'] = \"Donald Trump\"\n",
    "check.loc[check.third_speaker == \"President Trump\", 'third_speaker'] = \"Donald Trump\""
   ]
  },
  {
   "cell_type": "code",
   "execution_count": 18,
   "metadata": {},
   "outputs": [
    {
     "data": {
      "text/plain": [
       "None                                         26332\n",
       "John Paul                                     2053\n",
       "Donald Trump                                  1629\n",
       "Thomas D. Williams                             430\n",
       "Benedict XVI                                   395\n",
       "President Barack Obama                         310\n",
       "Pietro Parolin                                 289\n",
       "Pope Benedict XVI                              287\n",
       "Oscar Romero                                   245\n",
       "Federico Lombardi                              244\n",
       "President Obama                                239\n",
       "Theodore McCarrick                             196\n",
       "Fernando Karadima                              185\n",
       "Kim Davis                                      155\n",
       "George Pell                                    150\n",
       "Carlo Maria Vigano                             141\n",
       "Abraham Lincoln                                136\n",
       "Juan Carlos                                    132\n",
       "Matteo Salvini                                 121\n",
       "Carlo Maria Viganò                             116\n",
       "Eugenio Scalfari                               114\n",
       "Aung San Suu Kyi                               111\n",
       "Justin Welby                                   111\n",
       "Father Jacques Hamel                           106\n",
       "Raul Castro                                    106\n",
       "Donald Wuerl                                   104\n",
       "Charles Borromeo                               104\n",
       "Greg Burke                                     101\n",
       "Patriarch Bartholomew I of Constantinople      101\n",
       "Nicolas Maduro                                 100\n",
       "dtype: int64"
      ]
     },
     "execution_count": 18,
     "metadata": {},
     "output_type": "execute_result"
    }
   ],
   "source": [
    "aaa = check[['second_speaker', 'third_speaker']].dropna().stack()\n",
    "aaa.value_counts()[0:30]"
   ]
  },
  {
   "cell_type": "markdown",
   "metadata": {},
   "source": [
    "# First descriptive analysis"
   ]
  },
  {
   "cell_type": "code",
   "execution_count": 43,
   "metadata": {},
   "outputs": [
    {
     "name": "stdout",
     "output_type": "stream",
     "text": [
      "count    102993.000000\n",
      "mean         22.008069\n",
      "std          18.410210\n",
      "min           2.000000\n",
      "25%          10.000000\n",
      "50%          17.000000\n",
      "75%          29.000000\n",
      "max         419.000000\n",
      "Name: nbr_words, dtype: float64\n",
      "22.008068509510355\n",
      "<class 'pandas.core.series.Series'>\n"
     ]
    },
    {
     "data": {
      "image/png": "[encoded data removed]",
      "text/plain": [
       "<Figure size 504x504 with 1 Axes>"
      ]
     },
     "metadata": {
      "needs_background": "light"
     },
     "output_type": "display_data"
    }
   ],
   "source": [
    "#statistics about the number of words \n",
    "nbr_words = pre_processed_df['nbr_words'].copy()\n",
    "\n",
    "a = nbr_words.describe()\n",
    "print(a)\n",
    "print(a.loc['mean'])\n",
    "print(type(pre_processed_df['nbr_words']))\n",
    "\n",
    "plt.figure(figsize=(7, 7))\n",
    "plt.boxplot(nbr_words)\n",
    "plt.title(\"Distribution of the number of words per quote\")\n",
    "_=plt.ylabel('Number of words')"
   ]
  },
  {
   "cell_type": "code",
   "execution_count": 31,
   "metadata": {},
   "outputs": [
    {
     "name": "stdout",
     "output_type": "stream",
     "text": [
      "count    102993.000000\n",
      "mean        123.302021\n",
      "std         103.404912\n",
      "min          12.000000\n",
      "25%          53.000000\n",
      "50%          97.000000\n",
      "75%         161.000000\n",
      "max        2408.000000\n",
      "Name: nbr_characters, dtype: float64\n"
     ]
    },
    {
     "data": {
      "image/png": "[encoded data removed]",
      "text/plain": [
       "<Figure size 504x504 with 1 Axes>"
      ]
     },
     "metadata": {
      "needs_background": "light"
     },
     "output_type": "display_data"
    }
   ],
   "source": [
    "#statistics about the number of characters \n",
    "nbr_char = pre_processed_df['nbr_characters'].copy()\n",
    "\n",
    "print(nbr_char.describe())\n",
    "\n",
    "plt.figure(figsize=(7, 7))\n",
    "plt.boxplot(nbr_char)\n",
    "plt.title(\"Distribution of the number of characters per quote\")\n",
    "_=plt.ylabel('Number of characters')"
   ]
  },
  {
   "cell_type": "code",
   "execution_count": 29,
   "metadata": {},
   "outputs": [
    {
     "name": "stdout",
     "output_type": "stream",
     "text": [
      "count    102993.000000\n",
      "mean          7.132592\n",
      "std          39.712437\n",
      "min           1.000000\n",
      "25%           1.000000\n",
      "50%           1.000000\n",
      "75%           3.000000\n",
      "max        2657.000000\n",
      "Name: nbr_occurences, dtype: float64\n"
     ]
    },
    {
     "data": {
      "text/plain": [
       "Text(0.5, 0, 'Log of number of occurences')"
      ]
     },
     "execution_count": 29,
     "metadata": {},
     "output_type": "execute_result"
    },
    {
     "data": {
      "image/png": "[encoded data removed]",
      "text/plain": [
       "<Figure size 504x504 with 1 Axes>"
      ]
     },
     "metadata": {
      "needs_background": "light"
     },
     "output_type": "display_data"
    }
   ],
   "source": [
    "# Statistics about the number of occurences of each quote\n",
    "nbr_occurences = pre_processed_df['nbr_occurences'].copy()\n",
    "\n",
    "print(nbr_occurences.describe())\n",
    "\n",
    "log_occ = np.log(nbr_occurences)\n",
    "histo_occurences = log_occ.hist(figsize=(7,7), grid = False)\n",
    "\n",
    "plt.title(\"Distribution of the number of occurences per quote\")\n",
    "plt.xlabel('Log of number of occurences')"
   ]
  },
  {
   "cell_type": "code",
   "execution_count": 22,
   "metadata": {},
   "outputs": [
    {
     "name": "stdout",
     "output_type": "stream",
     "text": [
      "A person who thinks only about building walls -- wherever they may be -- and not building bridges, is not Christian,\n",
      "\n",
      "quote                   A person who thinks only about building walls ...\n",
      "speaker                                                      Pope Francis\n",
      "probability                                                        0.5719\n",
      "second_speaker                                                       None\n",
      "second_probability                                                 0.2975\n",
      "third_speaker                                                Donald Trump\n",
      "third_probability                                                  0.0843\n",
      "date                                                  2016-02-18 00:00:00\n",
      "nbr_occurences                                                       2657\n",
      "phase                                                                   E\n",
      "nbr_words                                                              19\n",
      "nbr_characters                                                        116\n",
      "nbr_speakers                                                           46\n",
      "tokenized               [A, person, who, thinks, only, about, building...\n",
      "tokenized_text          [A, person, who, thinks, only, about, building...\n",
      "tokenized_text_tweet    [A, person, who, thinks, only, about, building...\n",
      "Name: 36955, dtype: object\n"
     ]
    }
   ],
   "source": [
    "# Most quoted sentence and its information\n",
    "\n",
    "most_quoted = pre_processed_df.iloc[pre_processed_df['nbr_occurences'].idxmax()]\n",
    "print(most_quoted['quote'])\n",
    "print(\"\")\n",
    "print(most_quoted)"
   ]
  },
  {
   "cell_type": "code",
   "execution_count": 23,
   "metadata": {},
   "outputs": [
    {
     "name": "stdout",
     "output_type": "stream",
     "text": [
      "The mean probability that Pope Francis is the speaker of the 10th most quoted sentences is =  66.66 % while the total probability mean is  73.56 %\n",
      "\n"
     ]
    },
    {
     "data": {
      "text/html": [
       "<div>\n",
       "<style scoped>\n",
       "    .dataframe tbody tr th:only-of-type {\n",
       "        vertical-align: middle;\n",
       "    }\n",
       "\n",
       "    .dataframe tbody tr th {\n",
       "        vertical-align: top;\n",
       "    }\n",
       "\n",
       "    .dataframe thead th {\n",
       "        text-align: right;\n",
       "    }\n",
       "</style>\n",
       "<table border=\"1\" class=\"dataframe\">\n",
       "  <thead>\n",
       "    <tr style=\"text-align: right;\">\n",
       "      <th></th>\n",
       "      <th>quote</th>\n",
       "      <th>speaker</th>\n",
       "      <th>probability</th>\n",
       "      <th>second_speaker</th>\n",
       "      <th>second_probability</th>\n",
       "      <th>third_speaker</th>\n",
       "      <th>third_probability</th>\n",
       "      <th>date</th>\n",
       "      <th>nbr_occurences</th>\n",
       "      <th>phase</th>\n",
       "      <th>nbr_words</th>\n",
       "      <th>nbr_characters</th>\n",
       "      <th>nbr_speakers</th>\n",
       "      <th>tokenized</th>\n",
       "      <th>tokenized_text</th>\n",
       "      <th>tokenized_text_tweet</th>\n",
       "    </tr>\n",
       "  </thead>\n",
       "  <tbody>\n",
       "    <tr>\n",
       "      <th>36955</th>\n",
       "      <td>A person who thinks only about building walls ...</td>\n",
       "      <td>Pope Francis</td>\n",
       "      <td>0.5719</td>\n",
       "      <td>None</td>\n",
       "      <td>0.2975</td>\n",
       "      <td>Donald Trump</td>\n",
       "      <td>0.0843</td>\n",
       "      <td>2016-02-18 00:00:00</td>\n",
       "      <td>2657</td>\n",
       "      <td>E</td>\n",
       "      <td>19</td>\n",
       "      <td>116</td>\n",
       "      <td>46</td>\n",
       "      <td>[A, person, who, thinks, only, about, building...</td>\n",
       "      <td>[A, person, who, thinks, only, about, building...</td>\n",
       "      <td>[A, person, who, thinks, only, about, building...</td>\n",
       "    </tr>\n",
       "    <tr>\n",
       "      <th>8993</th>\n",
       "      <td>immense pile of filth.</td>\n",
       "      <td>Pope Francis</td>\n",
       "      <td>0.7237</td>\n",
       "      <td>None</td>\n",
       "      <td>0.2217</td>\n",
       "      <td>Fernando Vergara</td>\n",
       "      <td>0.0343</td>\n",
       "      <td>2015-06-16 07:05:00</td>\n",
       "      <td>2581</td>\n",
       "      <td>E</td>\n",
       "      <td>4</td>\n",
       "      <td>22</td>\n",
       "      <td>37</td>\n",
       "      <td>[immense, pile, of, filth, .]</td>\n",
       "      <td>[immense, pile, of, filth, .]</td>\n",
       "      <td>[immense, pile, of, filth, .]</td>\n",
       "    </tr>\n",
       "    <tr>\n",
       "      <th>1001</th>\n",
       "      <td>Let us treat others with the same passion and ...</td>\n",
       "      <td>Pope Francis</td>\n",
       "      <td>0.7165</td>\n",
       "      <td>None</td>\n",
       "      <td>0.2783</td>\n",
       "      <td>Abraham Lincoln</td>\n",
       "      <td>0.0015</td>\n",
       "      <td>2015-09-24 00:18:31</td>\n",
       "      <td>2127</td>\n",
       "      <td>E</td>\n",
       "      <td>17</td>\n",
       "      <td>90</td>\n",
       "      <td>8</td>\n",
       "      <td>[Let, us, treat, others, with, the, same, pass...</td>\n",
       "      <td>[Let, us, treat, others, with, the, same, pass...</td>\n",
       "      <td>[Let, us, treat, others, with, the, same, pass...</td>\n",
       "    </tr>\n",
       "    <tr>\n",
       "      <th>2124</th>\n",
       "      <td>one of America's most precious possessions,</td>\n",
       "      <td>Pope Francis</td>\n",
       "      <td>0.6196</td>\n",
       "      <td>None</td>\n",
       "      <td>0.2907</td>\n",
       "      <td>President Barack Obama</td>\n",
       "      <td>0.0747</td>\n",
       "      <td>2015-09-23 00:00:00</td>\n",
       "      <td>1883</td>\n",
       "      <td>E</td>\n",
       "      <td>7</td>\n",
       "      <td>43</td>\n",
       "      <td>13</td>\n",
       "      <td>[one, of, America, 's, most, precious, possess...</td>\n",
       "      <td>[one, of, America, 's, most, precious, possess...</td>\n",
       "      <td>[one, of, America's, most, precious, possessio...</td>\n",
       "    </tr>\n",
       "    <tr>\n",
       "      <th>45085</th>\n",
       "      <td>strongly deplored the unacceptable massacre.</td>\n",
       "      <td>Pope Francis</td>\n",
       "      <td>0.6307</td>\n",
       "      <td>None</td>\n",
       "      <td>0.3451</td>\n",
       "      <td>President Donald Trump</td>\n",
       "      <td>0.0087</td>\n",
       "      <td>2017-04-05 00:00:00</td>\n",
       "      <td>1732</td>\n",
       "      <td>E</td>\n",
       "      <td>5</td>\n",
       "      <td>44</td>\n",
       "      <td>14</td>\n",
       "      <td>[strongly, deplored, the, unacceptable, massac...</td>\n",
       "      <td>[strongly, deplored, the, unacceptable, massac...</td>\n",
       "      <td>[strongly, deplored, the, unacceptable, massac...</td>\n",
       "    </tr>\n",
       "    <tr>\n",
       "      <th>58698</th>\n",
       "      <td>watching with horror at the latest events in S...</td>\n",
       "      <td>Pope Francis</td>\n",
       "      <td>0.6589</td>\n",
       "      <td>None</td>\n",
       "      <td>0.3276</td>\n",
       "      <td>President Donald Trump</td>\n",
       "      <td>0.0051</td>\n",
       "      <td>2017-04-05 00:00:00</td>\n",
       "      <td>1728</td>\n",
       "      <td>E</td>\n",
       "      <td>9</td>\n",
       "      <td>51</td>\n",
       "      <td>12</td>\n",
       "      <td>[watching, with, horror, at, the, latest, even...</td>\n",
       "      <td>[watching, with, horror, at, the, latest, even...</td>\n",
       "      <td>[watching, with, horror, at, the, latest, even...</td>\n",
       "    </tr>\n",
       "    <tr>\n",
       "      <th>41860</th>\n",
       "      <td>deep condolences to my brother, Pope Tawadros ...</td>\n",
       "      <td>Pope Francis</td>\n",
       "      <td>0.7575</td>\n",
       "      <td>None</td>\n",
       "      <td>0.2063</td>\n",
       "      <td>President Donald Trump</td>\n",
       "      <td>0.0091</td>\n",
       "      <td>2017-04-07 16:25:32</td>\n",
       "      <td>1637</td>\n",
       "      <td>E</td>\n",
       "      <td>18</td>\n",
       "      <td>104</td>\n",
       "      <td>16</td>\n",
       "      <td>[deep, condolences, to, my, brother, ,, Pope, ...</td>\n",
       "      <td>[deep, condolences, to, my, brother, ,, Pope, ...</td>\n",
       "      <td>[deep, condolences, to, my, brother, ,, Pope, ...</td>\n",
       "    </tr>\n",
       "    <tr>\n",
       "      <th>12751</th>\n",
       "      <td>If among you there are some who don't believe ...</td>\n",
       "      <td>Pope Francis</td>\n",
       "      <td>0.6458</td>\n",
       "      <td>None</td>\n",
       "      <td>0.3496</td>\n",
       "      <td>President Barack Obama</td>\n",
       "      <td>0.0046</td>\n",
       "      <td>2015-09-24 00:18:31</td>\n",
       "      <td>1478</td>\n",
       "      <td>E</td>\n",
       "      <td>23</td>\n",
       "      <td>105</td>\n",
       "      <td>3</td>\n",
       "      <td>[If, among, you, there, are, some, who, do, n'...</td>\n",
       "      <td>[If, among, you, there, are, some, who, do, n'...</td>\n",
       "      <td>[If, among, you, there, are, some, who, don't,...</td>\n",
       "    </tr>\n",
       "    <tr>\n",
       "      <th>21806</th>\n",
       "      <td>in a way which is always humane, just, and fra...</td>\n",
       "      <td>Pope Francis</td>\n",
       "      <td>0.6322</td>\n",
       "      <td>None</td>\n",
       "      <td>0.3119</td>\n",
       "      <td>Donald Trump</td>\n",
       "      <td>0.0258</td>\n",
       "      <td>2015-09-24 05:00:00</td>\n",
       "      <td>1468</td>\n",
       "      <td>E</td>\n",
       "      <td>10</td>\n",
       "      <td>53</td>\n",
       "      <td>13</td>\n",
       "      <td>[in, a, way, which, is, always, humane, ,, jus...</td>\n",
       "      <td>[in, a, way, which, is, always, humane, ,, jus...</td>\n",
       "      <td>[in, a, way, which, is, always, humane, ,, jus...</td>\n",
       "    </tr>\n",
       "    <tr>\n",
       "      <th>24927</th>\n",
       "      <td>turn their back on our neighbors.</td>\n",
       "      <td>Pope Francis</td>\n",
       "      <td>0.7097</td>\n",
       "      <td>None</td>\n",
       "      <td>0.2783</td>\n",
       "      <td>Rosa DeLauro</td>\n",
       "      <td>0.0086</td>\n",
       "      <td>2015-09-24 00:18:31</td>\n",
       "      <td>1451</td>\n",
       "      <td>E</td>\n",
       "      <td>6</td>\n",
       "      <td>33</td>\n",
       "      <td>5</td>\n",
       "      <td>[turn, their, back, on, our, neighbors, .]</td>\n",
       "      <td>[turn, their, back, on, our, neighbors, .]</td>\n",
       "      <td>[turn, their, back, on, our, neighbors, .]</td>\n",
       "    </tr>\n",
       "  </tbody>\n",
       "</table>\n",
       "</div>"
      ],
      "text/plain": [
       "                                                   quote       speaker  \\\n",
       "36955  A person who thinks only about building walls ...  Pope Francis   \n",
       "8993                              immense pile of filth.  Pope Francis   \n",
       "1001   Let us treat others with the same passion and ...  Pope Francis   \n",
       "2124         one of America's most precious possessions,  Pope Francis   \n",
       "45085       strongly deplored the unacceptable massacre.  Pope Francis   \n",
       "58698  watching with horror at the latest events in S...  Pope Francis   \n",
       "41860  deep condolences to my brother, Pope Tawadros ...  Pope Francis   \n",
       "12751  If among you there are some who don't believe ...  Pope Francis   \n",
       "21806  in a way which is always humane, just, and fra...  Pope Francis   \n",
       "24927                  turn their back on our neighbors.  Pope Francis   \n",
       "\n",
       "       probability second_speaker  second_probability           third_speaker  \\\n",
       "36955       0.5719           None              0.2975            Donald Trump   \n",
       "8993        0.7237           None              0.2217        Fernando Vergara   \n",
       "1001        0.7165           None              0.2783         Abraham Lincoln   \n",
       "2124        0.6196           None              0.2907  President Barack Obama   \n",
       "45085       0.6307           None              0.3451  President Donald Trump   \n",
       "58698       0.6589           None              0.3276  President Donald Trump   \n",
       "41860       0.7575           None              0.2063  President Donald Trump   \n",
       "12751       0.6458           None              0.3496  President Barack Obama   \n",
       "21806       0.6322           None              0.3119            Donald Trump   \n",
       "24927       0.7097           None              0.2783            Rosa DeLauro   \n",
       "\n",
       "       third_probability                 date  nbr_occurences phase  \\\n",
       "36955             0.0843  2016-02-18 00:00:00            2657     E   \n",
       "8993              0.0343  2015-06-16 07:05:00            2581     E   \n",
       "1001              0.0015  2015-09-24 00:18:31            2127     E   \n",
       "2124              0.0747  2015-09-23 00:00:00            1883     E   \n",
       "45085             0.0087  2017-04-05 00:00:00            1732     E   \n",
       "58698             0.0051  2017-04-05 00:00:00            1728     E   \n",
       "41860             0.0091  2017-04-07 16:25:32            1637     E   \n",
       "12751             0.0046  2015-09-24 00:18:31            1478     E   \n",
       "21806             0.0258  2015-09-24 05:00:00            1468     E   \n",
       "24927             0.0086  2015-09-24 00:18:31            1451     E   \n",
       "\n",
       "       nbr_words  nbr_characters  nbr_speakers  \\\n",
       "36955         19             116            46   \n",
       "8993           4              22            37   \n",
       "1001          17              90             8   \n",
       "2124           7              43            13   \n",
       "45085          5              44            14   \n",
       "58698          9              51            12   \n",
       "41860         18             104            16   \n",
       "12751         23             105             3   \n",
       "21806         10              53            13   \n",
       "24927          6              33             5   \n",
       "\n",
       "                                               tokenized  \\\n",
       "36955  [A, person, who, thinks, only, about, building...   \n",
       "8993                       [immense, pile, of, filth, .]   \n",
       "1001   [Let, us, treat, others, with, the, same, pass...   \n",
       "2124   [one, of, America, 's, most, precious, possess...   \n",
       "45085  [strongly, deplored, the, unacceptable, massac...   \n",
       "58698  [watching, with, horror, at, the, latest, even...   \n",
       "41860  [deep, condolences, to, my, brother, ,, Pope, ...   \n",
       "12751  [If, among, you, there, are, some, who, do, n'...   \n",
       "21806  [in, a, way, which, is, always, humane, ,, jus...   \n",
       "24927         [turn, their, back, on, our, neighbors, .]   \n",
       "\n",
       "                                          tokenized_text  \\\n",
       "36955  [A, person, who, thinks, only, about, building...   \n",
       "8993                       [immense, pile, of, filth, .]   \n",
       "1001   [Let, us, treat, others, with, the, same, pass...   \n",
       "2124   [one, of, America, 's, most, precious, possess...   \n",
       "45085  [strongly, deplored, the, unacceptable, massac...   \n",
       "58698  [watching, with, horror, at, the, latest, even...   \n",
       "41860  [deep, condolences, to, my, brother, ,, Pope, ...   \n",
       "12751  [If, among, you, there, are, some, who, do, n'...   \n",
       "21806  [in, a, way, which, is, always, humane, ,, jus...   \n",
       "24927         [turn, their, back, on, our, neighbors, .]   \n",
       "\n",
       "                                    tokenized_text_tweet  \n",
       "36955  [A, person, who, thinks, only, about, building...  \n",
       "8993                       [immense, pile, of, filth, .]  \n",
       "1001   [Let, us, treat, others, with, the, same, pass...  \n",
       "2124   [one, of, America's, most, precious, possessio...  \n",
       "45085  [strongly, deplored, the, unacceptable, massac...  \n",
       "58698  [watching, with, horror, at, the, latest, even...  \n",
       "41860  [deep, condolences, to, my, brother, ,, Pope, ...  \n",
       "12751  [If, among, you, there, are, some, who, don't,...  \n",
       "21806  [in, a, way, which, is, always, humane, ,, jus...  \n",
       "24927         [turn, their, back, on, our, neighbors, .]  "
      ]
     },
     "execution_count": 23,
     "metadata": {},
     "output_type": "execute_result"
    }
   ],
   "source": [
    "# Top 10 of the most quoted sentences\n",
    "\n",
    "ten_most_quoted = pre_processed_df.nlargest(10,'nbr_occurences')\n",
    "mean_prob = (pre_processed_df['probability'].astype(np.float)).mean()\n",
    "mean_10_prob = (ten_most_quoted['probability'].astype(np.float)).mean()\n",
    "\n",
    "print(\"The mean probability that Pope Francis is the speaker of the 10th most quoted sentences is = \", round(mean_10_prob,4)*100, \"% while the total probability mean is \", round(mean_prob,4)*100, \"%\")\n",
    "print('')     \n",
    "ten_most_quoted\n",
    "      "
   ]
  },
  {
   "cell_type": "code",
   "execution_count": 83,
   "metadata": {},
   "outputs": [
    {
     "name": "stdout",
     "output_type": "stream",
     "text": [
      "en\n",
      "Sa ngayon, kandidato pa rin ako, at para sa akin ito ay pagkakataon upang mailahad ko sa inyo kung ano ang nais natin gawin para mas bumuti ang buhay nating lahat, magkaroon ng hustisya at matulungan ang mahihirap upang mabawasan ang kahirapan (I remain a candidate, and for me this is the right opportunity to share with you what we are setting out to do to improve the lot of many of our countrymen),\n"
     ]
    }
   ],
   "source": [
    "# examples of unusual quotes (went through 1000 to 1050)\n",
    "print(detect(pre_processed_df['quote'][1024]))\n",
    "print(pre_processed_df['quote'][1035])\n"
   ]
  },
  {
   "cell_type": "markdown",
   "metadata": {},
   "source": [
    "# Number of quotes through time"
   ]
  },
  {
   "cell_type": "code",
   "execution_count": 114,
   "metadata": {},
   "outputs": [],
   "source": [
    "quotes_by_date = pre_processed_df[['date']].copy()\n",
    "quotes_by_date[\"date\"] = quotes_by_date[\"date\"].astype(\"datetime64\")\n",
    "\n",
    "quotes_by_date = quotes_by_date.groupby([quotes_by_date[\"date\"].dt.year, quotes_by_date[\"date\"].dt.month, quotes_by_date[\"date\"].dt.day]).count()\n",
    "quotes_by_date.columns = ['count']\n",
    "quotes_by_date.index.names = ['year', 'month','day']\n",
    "#quotes_by_date[:50]\n",
    "#quotes_timed.hist(figsize=(20,5), grid = False, legend = None)\n",
    "#quotes_timed.plot(kind=\"bar\", legend = None)\n",
    "\n",
    "\n"
   ]
  },
  {
   "cell_type": "markdown",
   "metadata": {},
   "source": [
    "# Clustering"
   ]
  },
  {
   "cell_type": "code",
   "execution_count": 26,
   "metadata": {},
   "outputs": [],
   "source": [
    "#non_str_df = pre_processed_df[['probability','nbr_occurences','nbr_words','nbr_characters','nbr_speakers']].copy()\n",
    "clust_df = pre_processed_df[['nbr_occurences','nbr_words']].copy()\n",
    "clust_df_short = clust_df[:10000]"
   ]
  },
  {
   "cell_type": "code",
   "execution_count": 27,
   "metadata": {},
   "outputs": [
    {
     "data": {
      "image/png": "[encoded data removed]",
      "text/plain": [
       "<Figure size 720x720 with 4 Axes>"
      ]
     },
     "metadata": {
      "needs_background": "light"
     },
     "output_type": "display_data"
    }
   ],
   "source": [
    "sns.clustermap(clust_df_short, cmap='viridis', yticklabels=False, standard_scale=True)\n",
    "plt.show()"
   ]
  },
  {
   "cell_type": "markdown",
   "metadata": {},
   "source": [
    "## Sentiment analysis"
   ]
  },
  {
   "cell_type": "code",
   "execution_count": 116,
   "metadata": {},
   "outputs": [
    {
     "name": "stdout",
     "output_type": "stream",
     "text": [
      "Negative sentiment: 0.0\n",
      "Neutral sentiment: 1.0\n",
      "Positive sentiment: 0.0\n",
      "Compound sentiment: 0.0\n",
      "<class 'dict'>\n"
     ]
    }
   ],
   "source": [
    "#test\n",
    "analyzer = SentimentIntensityAnalyzer()\n",
    "idx=88952\n",
    "vs = analyzer.polarity_scores(df.quote[idx])\n",
    "\n",
    "print('Negative sentiment:',vs['neg'])\n",
    "print('Neutral sentiment:',vs['neu'])\n",
    "print('Positive sentiment:',vs['pos'])\n",
    "print('Compound sentiment:',vs['compound'])\n",
    "print(type(vs))"
   ]
  },
  {
   "cell_type": "code",
   "execution_count": 117,
   "metadata": {},
   "outputs": [
    {
     "data": {
      "text/html": [
       "<div>\n",
       "<style scoped>\n",
       "    .dataframe tbody tr th:only-of-type {\n",
       "        vertical-align: middle;\n",
       "    }\n",
       "\n",
       "    .dataframe tbody tr th {\n",
       "        vertical-align: top;\n",
       "    }\n",
       "\n",
       "    .dataframe thead th {\n",
       "        text-align: right;\n",
       "    }\n",
       "</style>\n",
       "<table border=\"1\" class=\"dataframe\">\n",
       "  <thead>\n",
       "    <tr style=\"text-align: right;\">\n",
       "      <th></th>\n",
       "      <th>compound</th>\n",
       "      <th>neg</th>\n",
       "      <th>neu</th>\n",
       "      <th>pos</th>\n",
       "    </tr>\n",
       "  </thead>\n",
       "  <tbody>\n",
       "    <tr>\n",
       "      <th>0</th>\n",
       "      <td>0.8481</td>\n",
       "      <td>0.0</td>\n",
       "      <td>0.620</td>\n",
       "      <td>0.380</td>\n",
       "    </tr>\n",
       "    <tr>\n",
       "      <th>1</th>\n",
       "      <td>0.0000</td>\n",
       "      <td>0.0</td>\n",
       "      <td>1.000</td>\n",
       "      <td>0.000</td>\n",
       "    </tr>\n",
       "    <tr>\n",
       "      <th>2</th>\n",
       "      <td>0.7691</td>\n",
       "      <td>0.0</td>\n",
       "      <td>0.693</td>\n",
       "      <td>0.307</td>\n",
       "    </tr>\n",
       "    <tr>\n",
       "      <th>3</th>\n",
       "      <td>0.7506</td>\n",
       "      <td>0.0</td>\n",
       "      <td>0.775</td>\n",
       "      <td>0.225</td>\n",
       "    </tr>\n",
       "    <tr>\n",
       "      <th>4</th>\n",
       "      <td>0.3919</td>\n",
       "      <td>0.0</td>\n",
       "      <td>0.823</td>\n",
       "      <td>0.177</td>\n",
       "    </tr>\n",
       "  </tbody>\n",
       "</table>\n",
       "</div>"
      ],
      "text/plain": [
       "   compound  neg    neu    pos\n",
       "0    0.8481  0.0  0.620  0.380\n",
       "1    0.0000  0.0  1.000  0.000\n",
       "2    0.7691  0.0  0.693  0.307\n",
       "3    0.7506  0.0  0.775  0.225\n",
       "4    0.3919  0.0  0.823  0.177"
      ]
     },
     "execution_count": 117,
     "metadata": {},
     "output_type": "execute_result"
    }
   ],
   "source": [
    "analyzer = SentimentIntensityAnalyzer()\n",
    "polarity_scores=pd.DataFrame()\n",
    "\n",
    "for n, quote_ in enumerate(df['quote'][0:10000]) :\n",
    "    vs = analyzer.polarity_scores(quote_)\n",
    "    polarity_scores=polarity_scores.append(vs,ignore_index=True)\n",
    "    \n",
    "    \n",
    "polarity_scores.head(5)"
   ]
  },
  {
   "cell_type": "code",
   "execution_count": 119,
   "metadata": {},
   "outputs": [
    {
     "name": "stdout",
     "output_type": "stream",
     "text": [
      "      compound  neg    neu    pos\n",
      "3971    0.8689  0.0  0.093  0.907\n",
      "1296    0.6705  0.0  0.154  0.846\n",
      "4961    0.9432  0.0  0.158  0.842\n",
      "142     0.8720  0.0  0.168  0.832\n",
      "4876    0.8519  0.0  0.177  0.823\n",
      "4342    0.7783  0.0  0.204  0.796\n",
      "754     0.8074  0.0  0.215  0.785\n",
      "5601    0.7269  0.0  0.220  0.780\n",
      "8964    0.8807  0.0  0.227  0.773\n",
      "8102    0.9545  0.0  0.234  0.766\n",
      "      compound    neg    neu  pos\n",
      "2759   -0.8860  0.912  0.088  0.0\n",
      "4890   -0.8689  0.831  0.169  0.0\n",
      "8263   -0.8402  0.800  0.200  0.0\n",
      "3723   -0.8225  0.792  0.208  0.0\n",
      "1945   -0.9274  0.773  0.227  0.0\n",
      "1458   -0.7717  0.770  0.230  0.0\n",
      "6941   -0.9531  0.764  0.236  0.0\n",
      "8186   -0.6597  0.762  0.238  0.0\n",
      "4523   -0.7452  0.760  0.240  0.0\n",
      "2785   -0.7351  0.756  0.244  0.0\n"
     ]
    }
   ],
   "source": [
    "print(polarity_scores.nlargest(10, 'pos'))\n",
    "print(polarity_scores.nlargest(10, 'neg'))"
   ]
  },
  {
   "cell_type": "code",
   "execution_count": null,
   "metadata": {},
   "outputs": [],
   "source": []
  }
 ],
 "metadata": {
  "kernelspec": {
   "display_name": "Python 3",
   "language": "python",
   "name": "python3"
  },
  "language_info": {
   "codemirror_mode": {
    "name": "ipython",
    "version": 3
   },
   "file_extension": ".py",
   "mimetype": "text/x-python",
   "name": "python",
   "nbconvert_exporter": "python",
   "pygments_lexer": "ipython3",
   "version": "3.8.8"
  },
  "toc": {
   "base_numbering": 1,
   "nav_menu": {},
   "number_sections": true,
   "sideBar": true,
   "skip_h1_title": false,
   "title_cell": "Table of Contents",
   "title_sidebar": "Contents",
   "toc_cell": false,
   "toc_position": {},
   "toc_section_display": true,
   "toc_window_display": false
  }
 },
 "nbformat": 4,
 "nbformat_minor": 4
}
